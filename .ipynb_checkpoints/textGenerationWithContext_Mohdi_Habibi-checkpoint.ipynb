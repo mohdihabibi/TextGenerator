{
 "cells": [
  {
   "cell_type": "code",
   "execution_count": 14,
   "metadata": {},
   "outputs": [],
   "source": [
    "import numpy as np\n",
    "import sys\n",
    "from keras.models import Sequential\n",
    "from keras.layers import Dense, Dropout, LSTM, Embedding\n",
    "from keras.utils import np_utils\n",
    "from nltk.corpus import stopwords\n",
    "from keras.preprocessing.text import Tokenizer\n",
    "from nltk.tokenize import RegexpTokenizer"
   ]
  },
  {
   "cell_type": "code",
   "execution_count": 15,
   "metadata": {},
   "outputs": [],
   "source": [
    "christmasCarol = open(\"christmas.txt\").read()\n",
    "christmasCarol = christmasCarol[1000:]\n",
    "bleakHouse = open('bleakHouse.txt').read()\n",
    "bleakHouse = bleakHouse[1000:]\n",
    "oliver1 = open('oliver1.txt').read()\n",
    "oliver1 = oliver1[1000:]\n",
    "oliver2 = open('oliver2.txt').read()\n",
    "oliver2 = oliver2[1000:]\n",
    "oliver3 = open('oliver3.txt').read()\n",
    "oliver3 = oliver3[1000:]\n",
    "expectations = open('expectations.txt').read()\n",
    "expectations = expectations[1000:]\n",
    "copperfield = open('copperfield.txt').read()\n",
    "copperfield = copperfield[1000:]\n",
    "file = christmasCarol+bleakHouse+oliver1+oliver2+oliver3+expectations+copperfield"
   ]
  },
  {
   "cell_type": "code",
   "execution_count": 16,
   "metadata": {},
   "outputs": [
    {
     "data": {
      "text/plain": [
       "1101076"
      ]
     },
     "execution_count": 16,
     "metadata": {},
     "output_type": "execute_result"
    }
   ],
   "source": [
    "len(file.split())"
   ]
  },
  {
   "cell_type": "code",
   "execution_count": 17,
   "metadata": {},
   "outputs": [],
   "source": [
    "def clean_up(input):\n",
    "    input = input.lower()\n",
    "\n",
    "    tokenizer = RegexpTokenizer(r'\\w+')\n",
    "    tokens = tokenizer.tokenize(input)\n",
    "\n",
    "    filtered = filter(lambda token: token.isalpha() and token not in stopwords.words('english'), tokens)\n",
    "    return \" \".join(filtered)"
   ]
  },
  {
   "cell_type": "code",
   "execution_count": 18,
   "metadata": {},
   "outputs": [],
   "source": [
    "processed_inputs = clean_up(file)"
   ]
  },
  {
   "cell_type": "code",
   "execution_count": 19,
   "metadata": {},
   "outputs": [
    {
     "data": {
      "text/plain": [
       "517082"
      ]
     },
     "execution_count": 19,
     "metadata": {},
     "output_type": "execute_result"
    }
   ],
   "source": [
    "len(processed_inputs.split())"
   ]
  },
  {
   "cell_type": "code",
   "execution_count": 20,
   "metadata": {},
   "outputs": [
    {
     "name": "stdout",
     "output_type": "stream",
     "text": [
      "['first', 'printed', 'great', 'britain', 'endeavoured', 'ghostly', 'little', 'book', 'raise', 'ghost', 'idea', 'shall', 'put', 'humour', 'season', 'may', 'house', 'pleasantly', 'one', 'wish', 'lay', 'faithful', 'friend', 'servant', 'characters', 'bob', 'cratchit', 'clerk', 'scrooge', 'peter', 'son', 'preceding', 'tim', 'tiny', 'youngest', 'mr', 'fezziwig', 'kind', 'hearted', 'old', 'merchant', 'fred', 'nephew', 'christmas', 'past', 'phantom', 'showing', 'things', 'present', 'spirit', 'generous', 'hearty', 'nature', 'yet', 'come', 'apparition', 'shadows', 'happen', 'jacob', 'marley', 'spectre', 'former', 'partner', 'business', 'joe', 'store', 'stolen', 'goods', 'grasping', 'man', 'firm', 'bachelor', 'dick', 'wilkins', 'fellow', 'apprentice', 'matron', 'caroline', 'wife', 'mrs', 'martha', 'daughters', 'fan', 'sister', 'worthy', 'contents', 'stave', 'two', 'three', 'spirits', 'second', 'four', 'last', 'five', 'end', 'list', 'said', 'cold', 'ever', 'want', 'went', 'lane', 'boys', 'twenty', 'times', 'honour', 'eve', 'nobody', 'bed', 'closet', 'dressing', 'gown', 'hanging', 'suspicious', 'attitude', 'wall', 'air', 'filled', 'wandering', 'hither', 'thither', 'restless', 'haste', 'moaning', 'stood', 'dance', 'flushed', 'boisterous', 'group', 'laden', 'presents', 'way', 'plump', 'lace', 'returned', 'well', 'scratch', 'got', 'hey', 'call', 'curtains', 'ah', 'woman', 'laughing', 'mean', 'say', 'took', 'em', 'rings', 'lying', 'yes', 'replied', 'uncle', 'dinner', 'let', 'tell', 'going', 'stand', 'sort', 'thing', 'longer', 'illustration', 'black', 'coloured', 'white', 'heading', 'portly', 'gentlemen', 'pleasant', 'behold', 'wings', 'wind', 'produced', 'decanter', 'curiously', 'light', 'wine', 'block', 'heavy', 'cake', 'left', 'parted', 'nothing', 'cheerful', 'climate', 'blood', 'horse', 'church', 'pudding', 'dead', 'begin', 'doubt', 'whatever', 'signed', 'clergyman', 'undertaker', 'chief', 'name', 'good', 'upon', 'change', 'anything', 'chose', 'hand', 'door', 'nail', 'mind', 'know', 'knowledge', 'particularly', 'might', 'inclined', 'regard', 'coffin', 'piece', 'trade', 'wisdom', 'hands', 'disturb', 'country', 'done', 'therefore', 'permit', 'repeat', 'emphatically', 'knew', 'course', 'could', 'otherwise', 'many', 'years', 'sole', 'even', 'dreadfully', 'cut', 'sad', 'event', 'excellent', 'day', 'funeral', 'bargain', 'mention', 'brings', 'back', 'point', 'started', 'must', 'distinctly', 'understood', 'wonderful', 'story', 'relate', 'perfectly', 'convinced', 'hamlet', 'father', 'died', 'play', 'began', 'would', 'remarkable', 'taking', 'stroll', 'night', 'middle', 'aged', 'gentleman', 'turning', 'dark', 'spot', 'st', 'paul', 'churchyard', 'instance', 'weak', 'never', 'painted', 'afterwards', 'warehouse', 'known', 'sometimes', 'people', 'new', 'called', 'answered', 'names', 'oh', 'tight', 'squeezing', 'scraping', 'hard', 'sharp', 'steel', 'struck', 'fire', 'secret', 'self', 'contained', 'solitary', 'oyster', 'within', 'features', 'pointed', 'nose', 'shrivelled', 'cheek', 'made', 'eyes', 'red', 'thin', 'lips', 'blue', 'spoke', 'voice', 'frosty', 'head', 'eyebrows', 'chin', 'carried', 'low', 'always', 'office', 'dog', 'days', 'degree', 'heat', 'influence', 'warmth', 'warm', 'wintry', 'weather', 'blew', 'falling', 'snow', 'intent', 'purpose', 'rain', 'less', 'open', 'entreaty', 'sleet', 'boast', 'advantage', 'respect', 'often', 'came', 'handsomely', 'stopped', 'street', 'looks', 'dear', 'see', 'implored', 'bestow', 'trifle', 'children', 'asked', 'clock', 'life', 'inquired', 'place', 'blind', 'men', 'dogs', 'appeared', 'saw', 'coming', 'courts', 'tails', 'though', 'eye', 'better', 'evil', 'master', 'care', 'liked', 'edge', 'along', 'crowded', 'paths', 'warning', 'human', 'sympathy', 'keep', 'distance', 'knowing', 'ones', 'time', 'year', 'sat', 'busy', 'counting', 'bleak', 'biting', 'hear', 'court', 'outside', 'go', 'beating', 'stamping', 'feet', 'pavement', 'stones', 'city', 'clocks', 'gone', 'quite', 'already', 'candles', 'windows', 'neighbouring', 'offices', 'like', 'ruddy', 'brown', 'fog', 'pouring', 'every', 'keyhole', 'dense', 'without', 'although', 'houses', 'opposite', 'mere', 'dingy', 'cloud', 'drooping', 'everything', 'thought', 'lived', 'large', 'scale', 'dismal', 'cell', 'beyond', 'copying', 'letters', 'small', 'much', 'smaller', 'looked', 'coal', 'kept', 'box', 'room', 'surely', 'necessary', 'part', 'tried', 'candle', 'effort', 'strong', 'imagination', 'failed', 'merry', 'god', 'save', 'cried', 'quickly', 'approach', 'bah', 'humbug', 'heated', 'rapid', 'walking', 'frost', 'glow', 'face', 'handsome', 'breath', 'smoked', 'sure', 'right', 'reason', 'poor', 'enough', 'gaily', 'rich', 'answer', 'ready', 'moment', 'followed', 'cross', 'else', 'live', 'world', 'paying', 'bills', 'money', 'finding', 'older', 'hour', 'richer', 'books', 'round', 'dozen', 'months', 'presented', 'work', 'indignantly', 'idiot', 'goes', 'boiled', 'buried', 'stake', 'heart', 'pleaded', 'sternly', 'mine', 'repeated', 'leave', 'alone', 'derived', 'dare', 'among', 'rest', 'apart', 'veneration', 'due', 'sacred', 'belonging', 'forgiving', 'charitable', 'long', 'women', 'seem', 'consent', 'shut', 'hearts', 'freely', 'think', 'really', 'passengers', 'grave', 'another', 'race', 'creatures', 'bound', 'journeys', 'scrap', 'gold', 'silver', 'pocket', 'believe', 'bless', 'involuntarily', 'becoming', 'immediately', 'sensible', 'extinguished', 'sound', 'losing', 'situation', 'powerful', 'speaker', 'sir', 'added', 'wonder', 'parliament', 'angry', 'dine', 'us', 'morrow', 'indeed', 'whole', 'length', 'expression', 'get', 'married', 'fell', 'love', 'growled', 'ridiculous', 'afternoon', 'nay', 'happened', 'give', 'ask', 'cannot', 'friends', 'sorry', 'find', 'resolute', 'quarrel', 'party', 'trial', 'homage', 'happy', 'word', 'notwithstanding', 'outer', 'cordially', 'muttered', 'overheard', 'fifteen', 'shillings', 'week', 'family', 'talking', 'retire', 'letting', 'hats', 'papers', 'bowed', 'referring', 'pleasure', 'addressing', 'seven', 'ago', 'represented', 'presenting', 'certainly', 'frowned', 'shook', 'handed', 'pen', 'usually', 'desirable', 'make', 'slight', 'provision', 'destitute', 'suffer', 'greatly', 'thousands', 'common', 'hundreds', 'comforts', 'plenty', 'laying', 'union', 'demanded', 'still', 'operation', 'law', 'full', 'vigour', 'afraid', 'something', 'occurred', 'stop', 'useful', 'glad', 'impression', 'scarcely', 'christian', 'cheer', 'body', 'multitude', 'endeavouring', 'buy', 'meat', 'drink', 'means', 'choose', 'others', 'keenly', 'felt', 'since', 'afford', 'idle', 'help', 'support', 'mentioned', 'cost', 'badly', 'rather', 'die', 'besides', 'excuse', 'observed', 'understand', 'interfere', 'constantly', 'seeing', 'clearly', 'useless', 'pursue', 'withdrew', 'resumed', 'improved', 'opinion', 'temper', 'usual', 'meanwhile', 'darkness', 'ran', 'links', 'services', 'horses', 'carriages', 'conduct', 'ancient', 'tower', 'whose', 'gruff', 'bell', 'peeping', 'window', 'became', 'invisible', 'hours', 'quarters', 'clouds', 'tremulous', 'teeth', 'chattering', 'frozen', 'intense', 'main', 'corner', 'repairing', 'gas', 'pipes', 'lighted', 'ragged', 'gathered', 'warming', 'winking', 'blaze', 'rapture', 'water', 'solitude', 'suddenly', 'turned', 'ice', 'brightness', 'shops', 'lamp', 'pale', 'faces', 'passed', 'splendid', 'joke', 'glorious', 'next', 'impossible', 'dull', 'principles', 'sale', 'lord', 'mighty', 'mansion', 'gave', 'orders', 'fifty', 'household', 'previous', 'monday', 'drunk', 'streets', 'stirred', 'garret', 'lean', 'baby', 'beef', 'piercing', 'searching', 'touch', 'instead', 'using', 'familiar', 'roared', 'owner', 'young', 'hungry', 'bones', 'stooped', 'dismay', 'seized', 'ruler', 'energy', 'action', 'fled', 'terror', 'leaving', 'congenial', 'shutting', 'arrived', 'ill', 'stool', 'admitted', 'fact', 'instantly', 'hat', 'suppose', 'convenient', 'fair', 'half', 'crown', 'used', 'smiled', 'faintly', 'pay', 'picking', 'earlier', 'morning', 'promised', 'walked', 'growl', 'closed', 'twinkling', 'ends', 'dangling', 'waist', 'home', 'town', 'melancholy', 'tavern', 'read', 'newspapers', 'evening', 'chambers', 'belonged', 'deceased', 'gloomy', 'rooms', 'lowering', 'pile', 'building', 'yard', 'run', 'playing', 'hide', 'seek', 'forgotten', 'dreary', 'stone', 'fain', 'hung', 'gateway', 'seemed', 'genius', 'mournful', 'threshold', 'particular', 'knocker', 'except', 'also', 'seen', 'residence', 'fancy', 'london', 'including', 'bold', 'corporation', 'borne', 'bestowed', 'explain', 'key', 'lock', 'process', 'shadow', 'objects', 'bad', 'lobster', 'cellar', 'ferocious', 'look', 'spectacles', 'forehead', 'hair', 'hot', 'wide', 'motionless', 'colour', 'horrible', 'horror', 'spite', 'control', 'fixedly', 'phenomenon', 'startled', 'conscious', 'terrible', 'sensation', 'stranger', 'infancy', 'relinquished', 'pause', 'cautiously', 'behind', 'expected', 'terrified', 'sight', 'sticking', 'hall', 'held', 'pooh', 'thunder', 'separate', 'echoes', 'frightened', 'fastened', 'across', 'stairs', 'slowly', 'talk', 'vaguely', 'driving', 'coach', 'six', 'flight', 'act', 'staircase', 'taken', 'bar', 'towards', 'easy', 'spare', 'perhaps', 'gloom', 'lamps', 'entry', 'pretty', 'caring', 'button', 'cheap', 'recollection', 'desire', 'sitting', 'bedroom', 'table', 'sofa', 'grate', 'spoon', 'basin', 'saucepan', 'gruel', 'hob', 'guard', 'shoes', 'fish', 'baskets', 'washing', 'legs', 'poker', 'satisfied', 'locked', 'double', 'custom', 'thus', 'secured', 'surprise', 'cravat', 'nightcap', 'take', 'bitter', 'obliged', 'sit', 'close', 'least', 'fireplace', 'built', 'dutch', 'paved', 'quaint', 'descending', 'feather', 'beds', 'putting', 'sea', 'butter', 'boats', 'figures', 'attract', 'thoughts', 'swallowed', 'smooth', 'blank', 'power', 'shape', 'picture', 'surface', 'fragments', 'copy', 'several', 'turns', 'threw', 'chair', 'glance', 'communicated', 'chamber', 'highest', 'astonishment', 'strange', 'inexplicable', 'dread', 'swing', 'swung', 'softly', 'soon', 'rang', 'loudly', 'lasted', 'minute', 'bells', 'ceased', 'begun', 'together', 'succeeded', 'noise', 'deep', 'person', 'dragging', 'chain', 'casks', 'remembered', 'heard', 'ghosts', 'haunted', 'described', 'chains', 'flew', 'louder', 'floors', 'straight', 'changed', 'dying', 'flame', 'waistcoat', 'boots', 'latter', 'coat', 'skirts', 'drew', 'clasped', 'wound', 'tail', 'closely', 'cash', 'boxes', 'keys', 'deeds', 'wrought', 'observing', 'looking', 'buttons', 'believed', 'standing', 'death', 'marked', 'folded', 'fought', 'senses', 'raising', 'shade', 'appropriate', 'doubtfully', 'question', 'whether', 'condition', 'involve', 'necessity', 'explanation', 'side', 'evidence', 'reality', 'disorder', 'stomach', 'makes', 'bit', 'cheese', 'fragment', 'gravy', 'habit', 'jokes', 'feel', 'truth', 'smart', 'attention', 'keeping', 'disturbed', 'staring', 'fixed', 'silence', 'deuce', 'awful', 'provided', 'infernal', 'atmosphere', 'case', 'agitated', 'returning', 'charge', 'wishing', 'vision', 'stony', 'gaze', 'swallow', 'creation', 'raised', 'frightful', 'cry', 'appalling', 'greater', 'wear', 'lower', 'dropped', 'breast', 'knees', 'mercy', 'dreadful', 'trouble', 'worldly', 'walk', 'earth', 'required', 'abroad', 'travel', 'far', 'forth', 'condemned', 'wander', 'witness', 'share', 'shared', 'happiness', 'wrung', 'shadowy', 'trembling', 'link', 'free', 'wore', 'pattern', 'trembled', 'pursued', 'weight', 'bear', 'laboured', 'glanced', 'floor', 'expectation', 'surrounded', 'sixty', 'iron', 'speak', 'comfort', 'none', 'comes', 'regions', 'conveyed', 'kinds', 'permitted', 'stay', 'linger', 'anywhere', 'mark', 'narrow', 'limits', 'changing', 'hole', 'weary', 'lie', 'whenever', 'thoughtful', 'breeches', 'pockets', 'pondering', 'lifting', 'getting', 'slow', 'manner', 'humility', 'deference', 'travelling', 'peace', 'torture', 'remorse', 'fast', 'quantity', 'ground', 'hearing', 'set', 'ward', 'justified', 'ages', 'labour', 'pass', 'susceptible', 'developed', 'working', 'kindly', 'mortal', 'short', 'vast', 'space', 'regret', 'opportunities', 'faltered', 'apply', 'wringing', 'mankind', 'welfare', 'charity', 'benevolence', 'drop', 'comprehensive', 'ocean', 'arm', 'cause', 'grief', 'flung', 'heavily', 'rolling', 'beings', 'blessed', 'star', 'led', 'wise', 'abode', 'conducted', 'rate', 'exceedingly', 'nearly', 'pray', 'appear', 'beside', 'agreeable', 'wiped', 'perspiration', 'brow', 'warn', 'chance', 'hope', 'fate', 'thankee', 'countenance', 'almost', 'faltering', 'visits', 'path', 'tread', 'expect', 'hinted', 'third', 'stroke', 'twelve', 'sake', 'remember', 'words', 'brought', 'ventured', 'found', 'visitor', 'erect', 'backward', 'step', 'reached', 'beckoned', 'paces', 'nearer', 'fear', 'confused', 'sounds', 'sorrowful', 'listening', 'joined', 'desperate', 'curiosity', 'guilty', 'linked', 'personally', 'lives', 'monstrous', 'safe', 'attached', 'unable', 'assist', 'wretched', 'infant', 'misery', 'sought', 'matters', 'lost', 'faded', 'mist', 'voices', 'examined', 'entered', 'undisturbed', 'syllable', 'emotions', 'undergone', 'glimpse', 'conversation', 'need', 'repose', 'asleep', 'instant', 'awoke', 'distinguish', 'walls', 'listened', 'eight', 'regularly', 'wrong', 'works', 'touched', 'spring', 'correct', 'beat', 'possible', 'slept', 'sun', 'noon', 'alarming', 'rub', 'sleeve', 'extremely', 'running', 'fro', 'making', 'stir', 'unquestionably', 'beaten', 'bright', 'possession', 'relief', 'exchange', 'order', 'become', 'united', 'states', 'security', 'count', 'perplexed', 'resolved', 'inquiry', 'dream', 'released', 'position', 'problem', 'worked', 'state', 'sudden', 'warned', 'awake', 'considering', 'sleep', 'heaven', 'wisest', 'resolution', 'quarter', 'sunk', 'unconsciously', 'missed', 'broke', 'ear', 'triumphantly', 'sounded', 'hollow', 'drawn', 'aside', 'addressed', 'starting', 'elbow', 'figure', 'child', 'viewed', 'medium', 'appearance', 'view', 'neck', 'age', 'bloom', 'skin', 'arms', 'hold', 'uncommon', 'strength', 'delicately', 'formed', 'upper', 'members', 'bare', 'beautiful', 'branch', 'fresh', 'green', 'singular', 'dress', 'summer', 'flowers', 'strangest', 'clear', 'visible', 'occasion', 'moments', 'cap', 'increasing', 'quality', 'distinctness', 'leg', 'pair', 'parts', 'wherein', 'melted', 'away', 'distinct', 'soft', 'gentle', 'observant', 'told', 'anybody', 'special', 'begged', 'covered', 'exclaimed', 'passions', 'force', 'intention', 'period', 'inquire', 'expressed', 'thinking', 'unbroken', 'heed', 'gently', 'rise', 'vain', 'adapted', 'purposes', 'lightly', 'grasp', 'rose', 'robe', 'remonstrated', 'liable', 'fall', 'spoken', 'road', 'fields', 'either', 'entirely', 'vanished', 'winter', 'clasping', 'bred', 'boy', 'gazed', 'mildly', 'sense', 'feeling', 'thousand', 'floating', 'connected', 'hopes', 'cares', 'lip', 'unusual', 'catching', 'lead', 'recollect', 'fervour', 'gate', 'post', 'tree', 'market', 'bridge', 'winding', 'river', 'backs', 'carts', 'driven', 'broad', 'music', 'crisp', 'laughed', 'consciousness', 'travellers', 'named', 'rejoiced', 'bounds', 'leap', 'roads', 'ways', 'school', 'deserted', 'neglected', 'sobbed', 'high', 'approached', 'brick', 'cock', 'roof', 'broken', 'fortunes', 'damp', 'gates', 'fowls', 'stables', 'grass', 'entering', 'glancing', 'doors', 'poorly', 'furnished', 'associated', 'somehow', 'eat', 'opened', 'disclosed', 'lines', 'plain', 'deal', 'forms', 'lonely', 'reading', 'near', 'feeble', 'form', 'wept', 'latent', 'echo', 'mice', 'drip', 'sigh', 'swinging', 'empty', 'softening', 'passage', 'tears', 'younger', 'foreign', 'garments', 'wonderfully', 'real', 'stuck', 'leading', 'ass', 'wood', 'ecstasy', 'honest', 'yonder', 'wild', 'brother', 'drawers', 'upside', 'serve', 'earnestness', 'subjects', 'extraordinary', 'crying', 'excited', 'yellow', 'growing', 'top', 'sailing', 'island', 'dreaming', 'friday', 'halloa', 'rapidity', 'character', 'pity', 'drying', 'late', 'matter', 'singing', 'given', 'thoughtfully', 'waved', 'saying', 'grew', 'larger', 'darker', 'dirty', 'shrunk', 'cracked', 'ceiling', 'shown', 'jolly', 'holidays', 'shaking', 'anxiously', 'girl', 'kissing', 'bring', 'clapping', 'bending', 'laugh', 'kinder', 'sent', 'opening', 'clapped', 'tiptoe', 'embrace', 'drag', 'childish', 'eagerness', 'accompanied', 'condescension', 'shivering', 'best', 'parlour', 'administered', 'sending', 'offer', 'glass', 'thanked', 'tap', 'tasted', 'tied', 'chaise', 'bade', 'bye', 'willingly', 'drove', 'garden', 'sweep', 'quick', 'wheels', 'leaves', 'delicate', 'creature', 'withered', 'forbid', 'true', 'uneasy', 'briefly', 'coaches', 'tumult', 'certain', 'apprenticed', 'wig', 'desk', 'inches', 'knocked', 'excitement', 'alive', 'laid', 'rubbed', 'adjusted', 'comfortable', 'fat', 'ho', 'grown', 'briskly', 'prentice', 'shutters', 'jack', 'fellows', 'charged', 'places', 'barred', 'nine', 'panting', 'cleared', 'dismissed', 'public', 'evermore', 'swept', 'heaped', 'snug', 'dry', 'ball', 'lofty', 'smile', 'miss', 'beaming', 'employed', 'housemaid', 'cousin', 'baker', 'cook', 'milkman', 'suspected', 'board', 'trying', 'proved', 'ears', 'pulled', 'mistress', 'boldly', 'pushing', 'pulling', 'couple', 'various', 'stages', 'affectionate', 'bottom', 'result', 'plunged', 'pot', 'porter', 'especially', 'exhausted', 'shutter', 'negus', 'roast', 'beer', 'effect', 'artful', 'de', 'stiff', 'notion', 'twice', 'match', 'term', 'praise', 'higher', 'use', 'positive', 'issue', 'shone', 'advance', 'bow', 'curtsy', 'screw', 'thread', 'needle', 'wink', 'eleven', 'domestic', 'wished', 'everybody', 'retired', 'prentices', 'counter', 'shop', 'acted', 'wits', 'soul', 'scene', 'enjoyed', 'underwent', 'agitation', 'burnt', 'silly', 'folks', 'gratitude', 'echoed', 'listen', 'spent', 'pounds', 'deserves', 'remark', 'speaking', 'render', 'unhappy', 'service', 'lies', 'add', 'gives', 'fortune', 'insisted', 'able', 'utterance', 'immediate', 'prime', 'harsh', 'rigid', 'later', 'signs', 'eager', 'greedy', 'motion', 'showed', 'passion', 'root', 'mourning', 'idol', 'rejoined', 'golden', 'dealing', 'poverty', 'severity', 'pursuit', 'wealth', 'sordid', 'reproach', 'gain', 'retorted', 'wiser', 'contract', 'content', 'improve', 'patient', 'industry', 'impatiently', 'tells', 'fraught', 'release', 'altered', 'worth', 'value', 'try', 'win', 'yield', 'justice', 'supposition', 'struggle', 'gladly', 'knows', 'learned', 'yesterday', 'confidence', 'false', 'principle', 'repentance', 'follow', 'memory', 'pain', 'brief', 'dismiss', 'chosen', 'show', 'delight', 'forced', 'observe', 'daughter', 'unlike', 'celebrated', 'forty', 'conducting', 'consequences', 'belief', 'contrary', 'mother', 'heartily', 'beginning', 'rude', 'crushed', 'torn', 'precious', 'shoe', 'plucked', 'punishment', 'dearly', 'downcast', 'blush', 'loose', 'waves', 'inch', 'price', 'confess', 'lightest', 'license', 'knocking', 'rush', 'ensued', 'centre', 'attended', 'shouting', 'struggling', 'chairs', 'dive', 'paper', 'kick', 'affection', 'shouts', 'received', 'announcement', 'doll', 'mouth', 'turkey', 'wooden', 'immense', 'alarm', 'joy', 'indescribable', 'alike', 'degrees', 'stair', 'subsided', 'attentively', 'leaning', 'fondly', 'fireside', 'graceful', 'promise', 'haggard', 'dim', 'husband', 'guess', 'tut', 'inside', 'remove', 'blame', 'resistance', 'burning', 'dimly', 'pressed', 'beneath', 'flood', 'overcome', 'parting', 'squeeze', 'relaxed', 'barely', 'sank', 'restored', 'holding', 'conference', 'messenger', 'draw', 'established', 'nervous', 'acquainted', 'move', 'equal', 'express', 'range', 'capacity', 'adventure', 'pitch', 'toss', 'tolerably', 'calling', 'field', 'appearances', 'astonished', 'prepared', 'consequently', 'violent', 'fit', 'minutes', 'ten', 'meant', 'apprehensive', 'interesting', 'spontaneous', 'consolation', 'however', 'ought', 'source', 'adjoining', 'whence', 'tracing', 'shine', 'shuffled', 'enter', 'obeyed', 'surprising', 'living', 'perfect', 'grove', 'ivy', 'reflected', 'scattered', 'roaring', 'chimney', 'hearth', 'game', 'poultry', 'oysters', 'apples', 'oranges', 'punch', 'delicious', 'steam', 'couch', 'giant', 'bore', 'glowing', 'shed', 'timidly', 'meet', 'simple', 'fur', 'garment', 'loosely', 'concealed', 'ample', 'folds', 'covering', 'shining', 'curls', 'genial', 'sparkling', 'demeanour', 'joyful', 'sword', 'eaten', 'meaning', 'elder', 'brothers', 'born', 'eighteen', 'hundred', 'tremendous', 'provide', 'lesson', 'teach', 'profit', 'fruit', 'severe', 'rough', 'brisk', 'unpleasant', 'front', 'tops', 'mad', 'sheet', 'crossed', 'trace', 'thick', 'mud', 'sky', 'shortest', 'choked', 'heavier', 'descended', 'shower', 'chimneys', 'caught', 'blazing', 'cheerfulness', 'brightest', 'exchanging', 'natured', 'jest', 'radiant', 'glory', 'shaped', 'tumbling', 'faced', 'spanish', 'growth', 'shelves', 'girls', 'blooming', 'piles', 'recalling', 'fragrance', 'walks', 'woods', 'setting', 'persons', 'entreating', 'bags', 'choice', 'bowl', 'gasping', 'company', 'rattled', 'tea', 'coffee', 'grateful', 'rare', 'sticks', 'sugar', 'faint', 'french', 'blushed', 'modest', 'highly', 'hurried', 'hopeful', 'tumbled', 'wildly', 'fetch', 'committed', 'mistakes', 'frank', 'polished', 'worn', 'general', 'inspection', 'clothes', 'emerged', 'scores', 'lanes', 'innumerable', 'carrying', 'dinners', 'interest', 'doorway', 'covers', 'bearers', 'drops', 'directly', 'shame', 'progress', 'cooking', 'wet', 'peculiar', 'flavour', 'innocent', 'enjoyment', 'dining', 'forgive', 'claim', 'pride', 'hatred', 'size', 'ease', 'dwelling', 'copies', 'dressed', 'brave', 'ribbons', 'sixpence', 'cloth', 'assisted', 'fork', 'potatoes', 'corners', 'shirt', 'collar', 'private', 'property', 'attired', 'linen', 'fashionable', 'cratchits', 'tearing', 'smelt', 'goose', 'danced', 'exalted', 'proud', 'lid', 'appearing', 'shawl', 'bonnet', 'finish', 'ye', 'everywhere', 'hid', 'exclusive', 'brushed', 'shoulder', 'crutch', 'limbs', 'supported', 'frame', 'disappointed', 'wash', 'copper', 'hugged', 'gets', 'thinks', 'hoped', 'lame', 'active', 'capable', 'shabby', 'mixture', 'jug', 'gin', 'procession', 'bustle', 'birds', 'beforehand', 'apple', 'plates', 'forgetting', 'mounting', 'spoons', 'lest', 'shriek', 'turn', 'helped', 'grace', 'breathless', 'carving', 'knife', 'issued', 'murmur', 'arose', 'handle', 'feebly', 'tenderness', 'universal', 'admiration', 'sufficient', 'surveying', 'bone', 'dish', 'ate', 'steeped', 'witnesses', 'break', 'somebody', 'sorts', 'horrors', 'supposed', 'hallo', 'smell', 'eating', 'smiling', 'proudly', 'cannon', 'brandy', 'calmly', 'regarded', 'greatest', 'success', 'achieved', 'marriage', 'doubts', 'flat', 'hint', 'compound', 'considered', 'circle', 'display', 'cup', 'stuff', 'served', 'proposed', 'dears', 'loved', 'dreaded', 'vacant', 'seat', 'carefully', 'preserved', 'remain', 'future', 'spared', 'penitence', 'wicked', 'discovered', 'decide', 'leaf', 'dust', 'bent', 'cast', 'feast', 'reddening', 'appetite', 'drinks', 'health', 'mild', 'drank', 'toast', 'proceedings', 'twopence', 'obtained', 'favour', 'receipt', 'income', 'stretch', 'holiday', 'tall', 'song', 'plaintive', 'sang', 'scanty', 'likely', 'pleased', 'contented', 'happier', 'fires', 'preparations', 'sisters', 'cousins', 'aunts', 'guests', 'neighbour', 'single', 'judged', 'numbers', 'friendly', 'welcome', 'expecting', 'breadth', 'palm', 'harmless', 'reach', 'spend', 'somewhere', 'desert', 'spread', 'prisoner', 'moss', 'coarse', 'rank', 'west', 'fiery', 'desolation', 'sullen', 'frowning', 'hut', 'swiftly', 'advanced', 'passing', 'assembled', 'seldom', 'waste', 'chorus', 'loud', 'whither', 'land', 'thundering', 'rolled', 'fiercely', 'shore', 'waters', 'dashed', 'heaps', 'clung', 'base', 'storm', 'watched', 'ray', 'damaged', 'ship', 'heaving', 'wheel', 'officers', 'watch', 'tune', 'companion', 'waking', 'sleeping', 'extent', 'cared', 'delighted', 'solemn', 'unknown', 'depths', 'secrets', 'profound', 'engaged', 'approving', 'ha', 'unlikely', 'introduce', 'acquaintance', 'noble', 'sorrow', 'laughter', 'sides', 'niece', 'earnest', 'surprised', 'capital', 'kissed', 'altogether', 'satisfactory', 'comical', 'carry', 'satisfaction', 'benefit', 'patience', 'ladies', 'takes', 'dislike', 'consequence', 'lose', 'interrupted', 'allowed', 'faith', 'subject', 'roses', 'begins', 'example', 'harm', 'pleasanter', 'companions', 'dusty', 'likes', 'till', 'dies', 'finds', 'thoroughly', 'encouraged', 'merriment', 'bottle', 'musical', 'catch', 'assure', 'swell', 'veins', 'played', 'harp', 'learn', 'whistle', 'fetched', 'reminded', 'strain', 'softened', 'devote', 'irons', 'piano', 'wherever', 'fallen', 'understanding', 'direction', 'escape', 'pretending', 'identity', 'pressing', 'ring', 'finger', 'confidential', 'alphabet', 'likewise', 'wholly', 'blunt', 'mood', 'departed', 'answering', 'questions', 'exposed', 'animal', 'disagreeable', 'savage', 'talked', 'killed', 'bull', 'pig', 'cat', 'burst', 'roar', 'stamp', 'similar', 'sentiment', 'objected', 'reply', 'inasmuch', 'diverted', 'supposing', 'tendency', 'ungrateful', 'nevertheless', 'gay', 'pledged', 'unconscious', 'return', 'speech', 'visited', 'sick', 'hospital', 'refuge', 'authority', 'blessing', 'taught', 'remained', 'outward', 'noticed', 'grey', 'midnight', 'drawing', 'ringing', 'intently', 'foot', 'flesh', 'hideous', 'miserable', 'prostrate', 'youth', 'pinched', 'twisted', 'angels', 'humanity', 'mysteries', 'fine', 'parties', 'enormous', 'appealing', 'fathers', 'ignorance', 'written', 'unless', 'writing', 'deny', 'stretching', 'admit', 'worse', 'beheld', 'gravely', 'silently', 'knee', 'moved', 'mystery', 'difficult', 'detach', 'stately', 'mysterious', 'presence', 'neither', 'onward', 'portion', 'contracted', 'feared', 'silent', 'hardly', 'paused', 'giving', 'recover', 'vague', 'uncertain', 'stretched', 'utmost', 'heap', 'thankful', 'conversed', 'groups', 'watches', 'seals', 'knot', 'snuff', 'yawn', 'pleasantry', 'lunch', 'fed', 'disinterested', 'gloves', 'met', 'strolled', 'mixed', 'glided', 'meeting', 'importance', 'esteem', 'strictly', 'attach', 'apparently', 'assured', 'hidden', 'consider', 'bearing', 'applied', 'moral', 'improvement', 'treasure', 'clue', 'image', 'accustomed', 'likeness', 'poured', 'porch', 'revolving', 'resolutions', 'quiet', 'roused', 'fancied', 'reference', 'unseen', 'shudder', 'obscure', 'drunken', 'ugly', 'dirt', 'crime', 'den', 'resort', 'rags', 'bottles', 'greasy', 'bought', 'piled', 'rusty', 'nails', 'hinges', 'files', 'refuse', 'mountains', 'dealt', 'bricks', 'haired', 'rascal', 'seventy', 'line', 'pipe', 'luxury', 'calm', 'retirement', 'bundle', 'similarly', 'recognition', 'removing', 'strangers', 'metal', 'suitable', 'screen', 'crossing', 'elbows', 'defiance', 'odds', 'pick', 'holes', 'coats', 'loss', 'wanted', 'natural', 'judgment', 'depend', 'helping', 'sin', 'gallantry', 'allow', 'breach', 'extensive', 'seal', 'pencil', 'brooch', 'sums', 'disposed', 'total', 'account', 'sheets', 'wearing', 'fashioned', 'stated', 'weakness', 'ruin', 'penny', 'repent', 'liberal', 'knock', 'undo', 'convenience', 'dragged', 'roll', 'forward', 'reaching', 'coolly', 'oil', 'eh', 'stopping', 'fond', 'ache', 'wasted', 'wasting', 'fool', 'dialogue', 'spoil', 'afforded', 'disgust', 'corpse', 'producing', 'flannel', 'bag', 'shuddering', 'dumb', 'announced', 'language', 'accuracy', 'impulse', 'anxious', 'rising', 'steady', 'cover', 'carelessly', 'slightest', 'withdraw', 'veil', 'altar', 'thy', 'command', 'honoured', 'feature', 'tender', 'strike', 'springing', 'pronounced', 'foremost', 'truly', 'fearful', 'trust', 'unmoved', 'feels', 'emotion', 'caused', 'withdrawing', 'revealed', 'daylight', 'depressed', 'serious', 'ashamed', 'struggled', 'repress', 'news', 'embarrassed', 'ruined', 'amazed', 'prayed', 'forgiveness', 'obtain', 'delay', 'avoid', 'debt', 'successor', 'soften', 'lighter', 'hushed', 'brighter', 'nowhere', 'seated', 'noisy', 'midst', 'dreamed', 'evenings', 'grieved', 'praised', 'speed', 'sunday', 'farther', 'upstairs', 'cheerfully', 'lately', 'composed', 'kindness', 'distress', 'pleasantest', 'card', 'delightful', 'grinning', 'forget', 'easily', 'informs', 'different', 'visions', 'desired', 'besought', 'hurry', 'occupation', 'elsewhere', 'hastened', 'furniture', 'wondering', 'underneath', 'weeds', 'graves', 'exactly', 'downward', 'immovable', 'crept', 'following', 'intercourse', 'shake', 'lessons', 'agony', 'stronger', 'prayer', 'alteration', 'happiest', 'fluttered', 'intentions', 'sobbing', 'violently', 'folding', 'stockings', 'angel', 'giddy', 'practice', 'illustrious', 'brilliant', 'laughs', 'month', 'checked', 'clash', 'hammer', 'stirring', 'sunlight', 'sweet', 'lad', 'intelligent', 'sold', 'big', 'er', 'directions', 'shilling', 'shot', 'send', 'whispered', 'rubbing', 'sends', 'wrote', 'address', 'write', 'downstairs', 'waiting', 'arrival', 'patting', 'bird', 'wax', 'chuckle', 'paid', 'chuckled', 'shaving', 'task', 'continued', 'requires', 'humoured', 'pace', 'pardon', 'goodness', 'please', 'payments', 'included', 'thank', 'hurrying', 'patted', 'steps', 'courage', 'dash', 'nice', 'array', 'points', 'games', 'early', 'staggered', 'salary', 'momentary', 'mistaken', 'endeavour', 'discuss', 'affairs', 'smoking', 'infinitely', 'fill', 'possessed', 'note', 'project', 'gutenberg', 'ebook', 'charles', 'dickens', 'file', 'formats', 'http', 'www', 'org', 'shell', 'janet', 'online', 'distributed', 'net', 'editions', 'replace', 'creating', 'domain', 'print', 'owns', 'copyright', 'foundation', 'distribute', 'permission', 'royalties', 'rules', 'terms', 'distributing', 'tm', 'electronic', 'protect', 'concept', 'trademark', 'registered', 'ebooks', 'receive', 'specific', 'complying', 'derivative', 'reports', 'performances', 'research', 'redistribution', 'commercial', 'start', 'mission', 'promoting', 'distribution', 'phrase', 'agree', 'comply', 'available', 'section', 'redistributing', 'indicate', 'accept', 'intellectual', 'agreement', 'abide', 'cease', 'destroy', 'fee', 'obtaining', 'access', 'refund', 'entity', 'paragraph', 'lot', 'preserve', 'literary', 'archive', 'pglaf', 'collection', 'individual', 'located', 'prevent', 'performing', 'displaying', 'based', 'references', 'removed', 'sharing', 'compliance', 'format', 'laws', 'countries', 'constant', 'check', 'addition', 'representations', 'concerning', 'status', 'sentence', 'prominently', 'appears', 'displayed', 'performed', 'copied', 'anyone', 'whatsoever', 'contain', 'notice', 'posted', 'holder', 'fees', 'charges', 'providing', 'requirements', 'paragraphs', 'additional', 'imposed', 'containing', 'perform', 'compressed', 'vanilla', 'ascii', 'official', 'web', 'site', 'expense', 'user', 'request', 'original', 'alternate', 'specified', 'reasonable', 'royalty', 'gross', 'profits', 'derive', 'calculated', 'method', 'applicable', 'taxes', 'owed', 'agreed', 'donate', 'date', 'prepare', 'legally', 'tax', 'returns', 'information', 'donations', 'mail', 'require', 'physical', 'accordance', 'replacement', 'defect', 'reported', 'michael', 'hart', 'contact', 'volunteers', 'employees', 'expend', 'considerable', 'identify', 'despite', 'efforts', 'stored', 'defects', 'limited', 'incomplete', 'corrupt', 'errors', 'defective', 'computer', 'damage', 'equipment', 'warranty', 'disclaimer', 'damages', 'liability', 'costs', 'expenses', 'legal', 'negligence', 'strict', 'actual', 'direct', 'incidental', 'possibility', 'discover', 'receiving', 'lieu', 'electronically', 'opportunity', 'demand', 'fix', 'warranties', 'implied', 'exclusion', 'limitation', 'void', 'remaining', 'provisions', 'agent', 'production', 'promotion', 'arise', 'occur', 'readable', 'widest', 'variety', 'computers', 'obsolete', 'assistance', 'critical', 'generations', 'created', 'secure', 'page', 'non', 'educational', 'granted', 'exempt', 'internal', 'federal', 'identification', 'number', 'letter', 'contributions', 'principal', 'dr', 'fairbanks', 'throughout', 'numerous', 'locations', 'north', 'salt', 'lake', 'email', 'depends', 'licensed', 'machine', 'important', 'maintaining', 'uniform', 'solicit', 'confirmation', 'determine', 'visit', 'solicitation', 'prohibition', 'accepting', 'offers', 'gratefully', 'accepted', 'treatment', 'swamp', 'staff', 'pages', 'current', 'methods', 'addresses', 'checks', 'credit', 'professor', 'library', 'thirty', 'confirmed', 'necessarily', 'edition', 'search', 'produce', 'tokens', 'writer', 'esther', 'narrative', 'deportment', 'tom', 'lady', 'dedlock', 'moving', 'lodger', 'smallweed', 'bucket', 'appeal', 'snagsby', 'sees', 'soldiers', 'ironmaster', 'nurse', 'appointed', 'chesney', 'wold', 'jarndyce', 'attorney', 'client', 'national', 'tulkinghorn', 'jo', 'closing', 'dutiful', 'friendship', 'obstinacy', 'track', 'perspective', 'discovery', 'lincolnshire', 'chancery', 'judge', 'inform', 'labouring', 'suspicions', 'popular', 'prejudice', 'determined', 'richard', 'king', 'kenge', 'vholes', 'originated', 'subdued', 'renewed', 'wholesome', 'connexion', 'gridley', 'occurrence', 'professionally', 'suit', 'counsel', 'amount', 'decided', 'century', 'authorities', 'krook', 'abandoned', 'ingenious', 'possibly', 'description', 'pains', 'cases', 'record', 'famous', 'distinguished', 'france', 'murdered', 'facts', 'vol', 'recorded', 'opinions', 'experiences', 'medical', 'english', 'abandon', 'testimony', 'purposely', 'dwelt', 'romantic', 'referred', 'chapter', 'america', 'recently', 'liquor', 'chancellor', 'lincoln', 'inn', 'newly', 'holborn', 'hill', 'smoke', 'pots', 'soot', 'imagine', 'adding', 'crust', 'rolls', 'shipping', 'marshes', 'heights', 'creeping', 'yards', 'hovering', 'ships', 'wards', 'cruelly', 'toes', 'fingers', 'deck', 'bridges', 'misty', 'divers', 'seems', 'unwilling', 'raw', 'muddy', 'leaden', 'headed', 'temple', 'sits', 'groping', 'holds', 'whiskers', 'directing', 'contemplation', 'lantern', 'score', 'heads', 'pretence', 'equity', 'silk', 'answers', 'masters', 'nonsense', 'hang', 'stained', 'peep', 'entrance', 'aspect', 'languidly', 'echoing', 'attendant', 'wigs', 'bank', 'blighted', 'suitor', 'heels', 'begging', 'brain', 'breaks', 'honourable', 'practitioners', 'amusement', 'falls', 'squeezed', 'invariably', 'carries', 'litter', 'reticule', 'calls', 'documents', 'principally', 'lavender', 'custody', 'personal', 'application', 'contempt', 'accounts', 'pretended', 'meantime', 'prospects', 'ended', 'shropshire', 'ignorant', 'existence', 'desolate', 'plants', 'keeps', 'complaint', 'lawyers', 'clerks', 'premises', 'families', 'settled', 'mothers', 'despair', 'brains', 'hopeless', 'profession', 'port', 'articled', 'wit', 'neatly', 'eminent', 'unwholesome', 'grimly', 'writhed', 'shapes', 'influences', 'bay', 'extra', 'twist', 'acquired', 'sum', 'distrust', 'promising', 'contemplated', 'history', 'tempted', 'tangle', 'says', 'eloquence', 'concluded', 'argument', 'duty', 'bows', 'proceed', 'wednesday', 'fortnight', 'forest', 'parent', 'settlement', 'rises', 'cries', 'frown', 'proceeds', 'directed', 'attendance', 'satisfy', 'grandfather', 'victim', 'terrific', 'fully', 'lordship', 'exact', 'delivered', 'message', 'prison', 'aware', 'battery', 'loaded', 'marches', 'injustice', 'fashion', 'crow', 'flies', 'usage', 'wake', 'kitchen', 'brink', 'speck', 'wrapped', 'cotton', 'rushing', 'departure', 'paris', 'ladyship', 'weeks', 'intelligence', 'arch', 'park', 'mile', 'trees', 'moves', 'background', 'alternately', 'ink', 'terrace', 'sundays', 'taste', 'dedlocks', 'twilight', 'keeper', 'lodge', 'pictures', 'housekeeper', 'undertake', 'leicester', 'baronet', 'hills', 'respectable', 'enclosed', 'fence', 'dependent', 'execution', 'county', 'conscience', 'meanness', 'obstinate', 'spirited', 'unreasonable', 'measure', 'gout', 'frill', 'pure', 'buttoned', 'polite', 'attractions', 'whisper', 'beauty', 'ambition', 'resolve', 'station', 'upward', 'conquer', 'frequently', 'composure', 'fatigue', 'ruffled', 'autumn', 'originally', 'elegant', 'oath', 'observes', 'remarks', 'solicitor', 'adviser', 'passages', 'fairy', 'mercury', 'powder', 'wills', 'confidences', 'timber', 'generally', 'wears', 'gaiters', 'mute', 'consulted', 'speechless', 'tables', 'eloquent', 'stops', 'receives', 'gravity', 'tribute', 'expresses', 'circumstance', 'class', 'supposes', 'ordinary', 'maid', 'weaknesses', 'follies', 'calculation', 'manage', 'humbly', 'affecting', 'hook', 'fleet', 'majestic', 'hit', 'article', 'entertainment', 'patronage', 'study', 'vanity', 'replies', 'shading', 'objection', 'expensive', 'british', 'constitutional', 'accident', 'occasional', 'trifling', 'confusion', 'perfection', 'respecting', 'encourage', 'classes', 'troublesome', 'possess', 'clients', 'responsibility', 'asks', 'puts', 'shaded', 'john', 'formal', 'glances', 'liking', 'happens', 'tone', 'careless', 'probably', 'speaks', 'reads', 'starts', 'risen', 'hastily', 'retires', 'begs', 'motioning', 'lawyer', 'alarmed', 'difficulty', 'clever', 'complexion', 'rosy', 'busily', 'shy', 'dared', 'noticing', 'tenderly', 'earliest', 'remembrance', 'stories', 'charming', 'godmother', 'prayers', 'allowance', 'unworthy', 'timid', 'retiring', 'naturally', 'mama', 'papa', 'interested', 'frock', 'relation', 'rachael', 'summerson', 'separation', 'invited', 'birthday', 'deceive', 'quickened', 'disposition', 'gloomily', 'fault', 'fright', 'kneeling', 'darkened', 'vehemence', 'clasp', 'beg', 'fluttering', 'disgrace', 'unfortunate', 'daily', 'according', 'depart', 'wrath', 'bosom', 'confided', 'repair', 'industrious', 'properly', 'filling', 'fervently', 'widow', 'sunny', 'watching', 'glasses', 'stern', 'complied', 'nod', 'fourteen', 'aloud', 'asking', 'lifted', 'unto', 'repeating', 'pillow', 'whispers', 'plainer', 'entreated', 'sign', 'reappeared', 'carboy', 'barbary', 'aunt', 'object', 'gained', 'smoothly', 'weep', 'tremble', 'fiction', 'exist', 'politely', 'teaching', 'proper', 'assented', 'instructed', 'circumstances', 'represent', 'compromise', 'professional', 'caution', 'enjoy', 'uttered', 'obvious', 'impressed', 'model', 'establishment', 'education', 'completed', 'wants', 'anticipated', 'qualified', 'discharge', 'providence', 'expressing', 'faithfully', 'exercise', 'ultimately', 'virtue', 'proceeded', 'telling', 'interview', 'bitterly', 'favourite', 'kiss', 'reproachful', 'misfortune', 'lawn', 'rug', 'quietly', 'cage', 'straw', 'pieces', 'yielding', 'gazing', 'confound', 'fly', 'muttering', 'mutton', 'chops', 'pie', 'offended', 'advised', 'relieved', 'neat', 'donny', 'introduced', 'mistake', 'carriage', 'scheme', 'pursuits', 'arranged', 'wishes', 'guardian', 'bewildered', 'lent', 'smelling', 'hesitation', 'merely', 'messrs', 'superior', 'periods', 'attend', 'destination', 'increased', 'precise', 'orderly', 'twins', 'treated', 'difference', 'pupil', 'neighbourhood', 'advice', 'approval', 'regular', 'signature', 'curious', 'around', 'stage', 'square', 'madam', 'convey', 'gracious', 'orphan', 'youthful', 'humble', 'breaking', 'bedside', 'weeping', 'gardener', 'unexpected', 'waving', 'sob', 'persuaded', 'miles', 'conveyance', 'approaching', 'journey', 'obliging', 'wondered', 'odd', 'nook', 'compliments', 'refreshment', 'newspaper', 'repeatedly', 'discomposed', 'consideration', 'interposed', 'trusting', 'ada', 'extended', 'captivating', 'winning', 'load', 'confide', 'encouraging', 'distant', 'carstone', 'engaging', 'nineteen', 'drowsy', 'lion', 'presently', 'requested', 'darling', 'plainly', 'thrown', 'bundles', 'clare', 'admired', 'substitute', 'parents', 'stepped', 'hum', 'venture', 'remind', 'equally', 'acknowledged', 'graciously', 'related', 'leant', 'nodded', 'thrice', 'pet', 'arrangement', 'ceremony', 'candour', 'affable', 'dignity', 'servants', 'ry', 'abashed', 'saved', 'shortly', 'es', 'worship', 'confer', 'jellyby', 'deed', 'casting', 'devoted', 'africa', 'natives', 'banks', 'desirous', 'aid', 'adjusting', 'suggested', 'describe', 'droll', 'qualities', 'guppy', 'remains', 'lively', 'concerned', 'safely', 'compliment', 'blushing', 'archway', 'crowd', 'brass', 'plate', 'inscription', 'area', 'careful', 'beadle', 'skull', 'mode', 'pushed', 'happily', 'stick', 'broom', 'missis', 'uneasiness', 'counted', 'landing', 'seeming', 'indifference', 'occupied', 'duties', 'brush', 'muffled', 'resume', 'lattice', 'untidy', 'disfigured', 'trodden', 'heel', 'pin', 'upwards', 'tin', 'strongly', 'ashes', 'correspondence', 'bodies', 'species', 'advancing', 'healthy', 'borrioboola', 'gha', 'gratifying', 'devotion', 'confident', 'precaution', 'eldest', 'bashful', 'sulky', 'finished', 'caddy', 'peepy', 'wounded', 'serene', 'naughty', 'intervals', 'detail', 'utter', 'retain', 'communication', 'curtain', 'kettle', 'distracted', 'danger', 'riding', 'wolf', 'mug', 'swelled', 'blowing', 'coughing', 'sweetness', 'washed', 'traps', 'waited', 'striking', 'meetings', 'undoubtedly', 'bald', 'submit', 'native', 'quale', 'temples', 'informed', 'establish', 'extreme', 'nest', 'discussion', 'sentiments', 'attentive', 'accidentally', 'remembering', 'dragon', 'burn', 'brightly', 'drinking', 'housekeeping', 'owe', 'partly', 'generosity', 'trusted', 'earthly', 'proposing', 'proposal', 'recollected', 'bluff', 'wandered', 'recalled', 'candlestick', 'egg', 'unexpectedly', 'stains', 'hate', 'beast', 'tired', 'cool', 'sing', 'needlework', 'pa', 'merit', 'foolish', 'discontented', 'pitied', 'passionately', 'comforted', 'learnt', 'persuade', 'contrived', 'lap', 'shawls', 'scenes', 'indistinct', 'mingled', 'resting', 'encounter', 'crib', 'sunshine', 'sufficiently', 'breakfast', 'loaf', 'milk', 'prefer', 'submitted', 'minds', 'liberty', 'lighting', 'throwing', 'evidently', 'intended', 'crumbs', 'wiping', 'dancing', 'allusion', 'vigorous', 'emphasis', 'affair', 'shocked', 'faster', 'sounding', 'refer', 'pursuing', 'moodily', 'sweeping', 'secretly', 'pins', 'collect', 'tighter', 'remarkably', 'recovering', 'explained', 'grow', 'vacation', 'lodging', 'amused', 'rid', 'offence', 'informing', 'rag', 'mill', 'cart', 'medicine', 'mentioning', 'particulars', 'bench', 'volumes', 'announcing', 'execute', 'parchment', 'discoloured', 'legged', 'beam', 'picked', 'clean', 'complete', 'sideways', 'shoulders', 'throat', 'hi', 'sell', 'entreaties', 'apartment', 'aye', 'stimulated', 'encouragement', 'protection', 'landlord', 'condescending', 'neighbours', 'eccentric', 'tapped', 'lovely', 'admire', 'darted', 'laughingly', 'genuine', 'stock', 'cobwebs', 'cleaning', 'betwixt', 'jane', 'shelf', 'tear', 'offered', 'tiresome', 'amazement', 'wider', 'stare', 'causes', 'checking', 'forefinger', 'abstraction', 'nodding', 'slightly', 'strolling', 'bits', 'drowned', 'stands', 'pointing', 'imaginary', 'certainty', 'sooner', 'pint', 'rattling', 'shock', 'inheritance', 'recollections', 'painful', 'coals', 'articles', 'food', 'cupboard', 'indebted', 'attending', 'nights', 'footing', 'genteel', 'introduction', 'topics', 'larks', 'readily', 'comprehend', 'comparison', 'positively', 'unsettled', 'compassionate', 'examine', 'parapet', 'whispering', 'mysteriously', 'cruelty', 'sharpened', 'jealous', 'sly', 'malice', 'reminding', 'bringing', 'hurriedly', 'presentiment', 'devil', 'hush', 'mistrust', 'footsteps', 'reveal', 'chalk', 'crooked', 'keen', 'spell', 'forming', 'assurance', 'settling', 'finally', 'enemy', 'relations', 'enemies', 'events', 'thanks', 'relative', 'newgate', 'policeman', 'sustained', 'absence', 'restoration', 'luggage', 'remembrances', 'concern', 'brightened', 'rick', 'hedge', 'rows', 'landscape', 'waggon', 'train', 'finishing', 'tossed', 'tucked', 'band', 'notes', 'whip', 'awakened', 'constraint', 'propose', 'benefactor', 'revived', 'escaped', 'discourse', 'theme', 'alighted', 'prolonged', 'level', 'wait', 'battle', 'albans', 'confessed', 'drive', 'driver', 'flying', 'rung', 'barking', 'hospitable', 'ride', 'upright', 'association', 'memorable', 'hesitating', 'obligations', 'east', 'uncomfortable', 'undecided', 'uttering', 'vexation', 'bidding', 'uncommonly', 'nursed', 'amiable', 'leaned', 'cottage', 'flower', 'henceforth', 'belong', 'commanding', 'stars', 'gallery', 'bedstead', 'skeleton', 'india', 'interval', 'bath', 'stable', 'slipped', 'velvet', 'captain', 'preparing', 'china', 'cocked', 'village', 'portraits', 'dispersed', 'officer', 'bride', 'queen', 'complacent', 'composition', 'representing', 'scent', 'drawer', 'rendered', 'impressions', 'simplicity', 'freshness', 'enthusiasm', 'amateur', 'manners', 'imply', 'harold', 'skimpole', 'basket', 'bunch', 'charm', 'gaiety', 'respects', 'elderly', 'flowing', 'paint', 'educated', 'prince', 'engagement', 'terminated', 'cheeks', 'quicker', 'succession', 'oldest', 'appointment', 'art', 'society', 'moon', 'sleeves', 'pens', 'claims', 'community', 'doubted', 'possessing', 'eyed', 'throws', 'ardour', 'throw', 'embracing', 'confiding', 'practical', 'habits', 'enjoying', 'expressly', 'assisting', 'details', 'leads', 'playful', 'speeches', 'enchanted', 'reasons', 'privilege', 'tossing', 'compared', 'arts', 'absolutely', 'touching', 'humming', 'indifferent', 'perpetual', 'breathed', 'benignant', 'communicating', 'reflecting', 'audible', 'recall', 'contrast', 'flow', 'preceded', 'secondly', 'rested', 'songs', 'audience', 'illness', 'dangerous', 'collected', 'prove', 'unspeakable', 'embarrassment', 'handkerchief', 'advise', 'arrested', 'needed', 'halfpence', 'pound', 'wot', 'lift', 'delicacy', 'applying', 'forgot', 'novelty', 'develop', 'soil', 'replying', 'jail', 'coavinses', 'ouse', 'selfish', 'pledge', 'bond', 'instrument', 'settle', 'poetry', 'acceptance', 'innocently', 'utterly', 'incapable', 'considerations', 'affected', 'transaction', 'acknowledgment', 'errand', 'wos', 'lights', 'loves', 'blow', 'cathedral', 'possessions', 'accompanying', 'jerk', 'mental', 'remainder', 'occasionally', 'separated', 'steal', 'lingering', 'relied', 'scrape', 'confined', 'tuesday', 'buildings', 'difficulties', 'press', 'absent', 'saint', 'height', 'responsible', 'plans', 'clearing', 'shows', 'experience', 'purse', 'advances', 'borrow', 'peeped', 'south', 'disappointment', 'conceal', 'disparage', 'characteristic', 'gentleness', 'winds', 'unlucky', 'speculations', 'hopefully', 'apprehend', 'brooding', 'motions', 'turret', 'consulting', 'contemplate', 'occasions', 'stream', 'stall', 'impatient', 'rattle', 'wistfully', 'monotonous', 'improving', 'pony', 'dozing', 'kennel', 'growling', 'wanting', 'worry', 'fits', 'hunt', 'ideas', 'blown', 'seasons', 'troubled', 'barley', 'preference', 'casts', 'rouncewell', 'deaf', 'induce', 'arched', 'impossibility', 'decease', 'modestly', 'simply', 'stunned', 'shakes', 'placed', 'expressive', 'disadvantage', 'soldier', 'pressure', 'thirsty', 'canary', 'job', 'grim', 'grandson', 'apprenticeship', 'watt', 'george', 'grandmother', 'rosa', 'scholar', 'formerly', 'listens', 'gig', 'gesture', 'repeats', 'magistrates', 'parcel', 'admission', 'visitors', 'join', 'rests', 'prettier', 'admits', 'shuts', 'afflicted', 'greatness', 'portrait', 'acts', 'stares', 'blest', 'refused', 'unaccountable', 'adds', 'dreams', 'probability', 'absorbed', 'follows', 'infinite', 'moreover', 'guided', 'dusk', 'discretion', 'seats', 'darkening', 'considers', 'distinction', 'favoured', 'majesty', 'council', 'footstep', 'draws', 'nods', 'continues', 'division', 'haughty', 'suited', 'moderate', 'civil', 'hated', 'wrist', 'persuasion', 'coldly', 'sickness', 'managed', 'sets', 'prospect', 'gradually', 'discovering', 'prominent', 'massive', 'slate', 'homely', 'brimstone', 'philosophy', 'willing', 'growlery', 'deceived', 'benevolent', 'disconcerted', 'reassured', 'protector', 'recovered', 'confidentially', 'conversing', 'merits', 'disappeared', 'reduced', 'punished', 'hoping', 'shattered', 'asunder', 'rails', 'sinking', 'england', 'excepting', 'seriously', 'playfully', 'dame', 'durden', 'comfortably', 'pit', 'sagacious', 'reliance', 'cards', 'sovereign', 'demands', 'debts', 'marble', 'virtues', 'separately', 'pardiggle', 'prevented', 'remarked', 'style', 'esteemed', 'pence', 'francis', 'halfpenny', 'fourth', 'tobacco', 'dissatisfied', 'peculiarly', 'worst', 'visiting', 'remarking', 'entire', 'depth', 'rapidly', 'local', 'acquire', 'injury', 'mite', 'rear', 'relieve', 'situated', 'stationed', 'murmured', 'astonishing', 'politeness', 'exertion', 'fist', 'neglect', 'protest', 'inexperienced', 'differently', 'military', 'brickmaker', 'contest', 'imparted', 'pretend', 'rage', 'gardens', 'tub', 'pond', 'minding', 'troubling', 'determination', 'offensive', 'nursing', 'clay', 'bruised', 'stared', 'attracted', 'harder', 'badger', 'nat', 'rally', 'gen', 'regarding', 'increase', 'constable', 'religious', 'mechanical', 'bark', 'emphatic', 'fatigued', 'accordingly', 'narrowly', 'violence', 'suffering', 'compassion', 'burden', 'jenny', 'marks', 'trials', 'stole', 'perceived', 'distressed', 'maker', 'expedition', 'dispute', 'row', 'escort', 'murder', 'solemnity', 'afresh', 'reward', 'moaned', 'peaceful', 'replaced', 'soothing', 'practised', 'employment', 'mouse', 'instruments', 'sailors', 'sailor', 'inclination', 'childhood', 'probable', 'remote', 'ascertained', 'instructions', 'thoughtless', 'recovery', 'prudent', 'sacrifice', 'restlessness', 'sanguine', 'deeper', 'boythorn', 'evident', 'lawrence', 'tapping', 'impetuous', 'chest', 'blacksmith', 'lungs', 'beams', 'favourable', 'indication', 'perpetually', 'reputation', 'reception', 'intolerable', 'scoundrel', 'villain', 'vagabond', 'rotten', 'guest', 'remotest', 'conceived', 'fury', 'hurt', 'continually', 'firing', 'guns', 'guineas', 'attachment', 'passionate', 'bread', 'recommended', 'disputed', 'actions', 'trespass', 'breathing', 'unnecessary', 'imbecile', 'solemnly', 'writes', 'positions', 'engine', 'chop', 'split', 'insupportable', 'lurking', 'defend', 'continue', 'thumb', 'smoothing', 'feathers', 'accomplished', 'unlocked', 'junior', 'assuredly', 'rely', 'report', 'compact', 'examining', 'kid', 'neckerchief', 'colours', 'grease', 'awkward', 'stormy', 'nervously', 'obligation', 'morsel', 'communicate', 'tightly', 'fail', 'refreshed', 'expiration', 'exceeding', 'independent', 'lodgings', 'pentonville', 'lowly', 'airy', 'declaration', 'oblige', 'carpet', 'tray', 'obey', 'thee', 'strangely', 'interests', 'cruel', 'charms', 'recommend', 'respectful', 'rope', 'proof', 'feelings', 'william', 'dejected', 'incident', 'flutter', 'cursitor', 'stationer', 'pursues', 'shady', 'string', 'knives', 'partnership', 'overpowered', 'hackney', 'ascertain', 'observation', 'rumour', 'solicitude', 'purchase', 'exhibited', 'mounted', 'influenced', 'estate', 'tones', 'rarely', 'shrill', 'guster', 'per', 'workhouse', 'parish', 'patron', 'sink', 'believes', 'refers', 'wives', 'habitually', 'husbands', 'behaviour', 'worried', 'umbrella', 'meditative', 'loving', 'slice', 'allegory', 'roman', 'backed', 'binding', 'manuscript', 'inkstand', 'indecision', 'gather', 'cutting', 'pew', 'sand', 'executed', 'branches', 'supper', 'confidently', 'facing', 'coughs', 'cough', 'expressions', 'handwriting', 'bolt', 'latin', 'becomes', 'customer', 'queer', 'advertisement', 'rule', 'document', 'employ', 'obstacles', 'lifts', 'male', 'female', 'grin', 'opens', 'wilderness', 'portmanteau', 'starved', 'mat', 'gaunt', 'trousers', 'beard', 'filthy', 'perceive', 'strikes', 'drooped', 'shines', 'exclaims', 'doctor', 'flite', 'poison', 'whoever', 'nearest', 'crazy', 'tongue', 'examination', 'inquires', 'surgeon', 'passes', 'purchased', 'kill', 'rent', 'resuming', 'region', 'awe', 'impatience', 'inferred', 'investigation', 'arrives', 'connexions', 'suggests', 'strengthened', 'apology', 'partial', 'meals', 'confirm', 'inquest', 'behalf', 'leans', 'turnpike', 'scraps', 'suggestion', 'inhabitants', 'army', 'perkins', 'piper', 'crack', 'government', 'tidings', 'coroner', 'jury', 'knowed', 'aboard', 'vessel', 'inflexible', 'stout', 'lounging', 'casually', 'minded', 'paupers', 'arriving', 'lain', 'sol', 'harmonic', 'swills', 'comic', 'bill', 'talent', 'discreet', 'ale', 'inseparable', 'ornamented', 'hanged', 'swear', 'imitation', 'resumes', 'accommodation', 'inquiries', 'sworn', 'chiefly', 'james', 'frequent', 'hoarse', 'heerd', 'arter', 'wery', 'conclusion', 'accidental', 'discharged', 'recognized', 'hunger', 'allude', 'engage', 'attempt', 'jingling', 'pillows', 'forlorn', 'hence', 'fowl', 'triumphant', 'bears', 'therein', 'slouching', 'bars', 'entertain', 'mended', 'approvingly', 'touches', 'bend', 'chariot', 'plunging', 'hotel', 'theatre', 'whiles', 'gridiron', 'tomb', 'murderous', 'remedy', 'experienced', 'glittering', 'towers', 'elapsed', 'smiles', 'system', 'effects', 'rooks', 'contradictory', 'gleam', 'warmly', 'mass', 'customary', 'pauses', 'member', 'tis', 'traveller', 'rendering', 'watchful', 'objections', 'imperfectly', 'performance', 'hortense', 'mademoiselle', 'reflect', 'jewels', 'warmed', 'gallant', 'advantages', 'towel', 'languid', 'coodle', 'thomas', 'doodle', 'assumed', 'arising', 'department', 'commons', 'reserved', 'buffy', 'minor', 'circles', 'anyhow', 'complaining', 'flag', 'reflection', 'sunset', 'mask', 'limb', 'betray', 'regulated', 'profoundly', 'conceive', 'maintain', 'proceeding', 'severely', 'sombre', 'stricken', 'calmness', 'steadily', 'wretch', 'gathering', 'reservation', 'boyish', 'uncertainty', 'birth', 'engendered', 'dismissing', 'regretted', 'verses', 'studying', 'musing', 'destiny', 'fitted', 'mercenary', 'firmly', 'boards', 'recompense', 'final', 'advisable', 'preparation', 'feelingly', 'placing', 'ability', 'premium', 'coincidence', 'deemed', 'oxford', 'sights', 'plays', 'happening', 'deepest', 'yielded', 'absurd', 'despondency', 'fighting', 'perseverance', 'moonlight', 'fortunately', 'bayham', 'studies', 'painting', 'guitar', 'swosser', 'royal', 'dingo', 'wedding', 'march', 'modesty', 'attained', 'suffered', 'fever', 'tumbler', 'trim', 'commission', 'sighed', 'combined', 'science', 'consigned', 'clinging', 'hiding', 'hardest', 'lapse', 'lasting', 'inspired', 'constancy', 'fortitude', 'secrecy', 'pleasures', 'afar', 'assume', 'assumption', 'strongest', 'abilities', 'sincerely', 'embraced', 'earnestly', 'lovingly', 'career', 'dearest', 'declare', 'declared', 'urged', 'approve', 'quieter', 'fortunate', 'involved', 'shells', 'sheep', 'identical', 'failure', 'cordial', 'plan', 'temporary', 'beasts', 'apologetically', 'slave', 'marry', 'intimate', 'unhappiness', 'unwonted', 'turveydrop', 'newman', 'gentlemanly', 'listener', 'undertook', 'reluctance', 'lover', 'joyfully', 'soap', 'grand', 'cane', 'shedding', 'pupils', 'curling', 'bowing', 'indignant', 'strings', 'ribbon', 'shouldered', 'transport', 'assurances', 'meek', 'tolerable', 'enable', 'indignation', 'virtuous', 'bite', 'conviction', 'beautifully', 'glove', 'polish', 'pinch', 'succeed', 'impart', 'sex', 'intend', 'meal', 'humouredly', 'acknowledge', 'founded', 'tempered', 'overjoyed', 'chilled', 'fitz', 'decidedly', 'bodily', 'woodcourt', 'physician', 'college', 'saturday', 'forwards', 'lays', 'congratulated', 'considerate', 'contemplating', 'knuckles', 'angrily', 'sharply', 'dignified', 'afore', 'ral', 'madness', 'cunning', 'folly', 'tormented', 'barrel', 'easier', 'flash', 'affections', 'bearer', 'failing', 'acceptable', 'delusion', 'butcher', 'lamb', 'whereas', 'reminds', 'inconvenient', 'stayed', 'chords', 'faults', 'misfortunes', 'revenge', 'maintained', 'signal', 'castle', 'wicket', 'chandler', 'blinder', 'fixing', 'deeply', 'decline', 'charley', 'charlotte', 'emma', 'nankeen', 'womanly', 'apron', 'affectionately', 'solely', 'mournfully', 'motherly', 'tranquil', 'movement', 'blackened', 'handy', 'tended', 'approved', 'punctual', 'arrange', 'guinea', 'abrupt', 'retained', 'respected', 'pausing', 'composedly', 'salutation', 'wrongs', 'farmer', 'rot', 'furious', 'threatening', 'vent', 'signify', 'superfluous', 'parliamentary', 'commander', 'deserving', 'actually', 'developing', 'social', 'demon', 'flush', 'rode', 'daring', 'nothink', 'avoided', 'decent', 'retreat', 'deliver', 'offering', 'cattle', 'criminal', 'constitution', 'material', 'wonders', 'brute', 'changes', 'shelter', 'ladder', 'runs', 'margin', 'meditating', 'magistrate', 'joint', 'landed', 'suspicion', 'recoiling', 'winder', 'nigh', 'rat', 'deadly', 'intelligible', 'safety', 'enabled', 'seeking', 'allan', 'davy', 'jones', 'staying', 'precisely', 'inconvenience', 'hasty', 'inclinations', 'disturbance', 'opposed', 'concealment', 'leisure', 'ornamental', 'dint', 'blotted', 'supply', 'accord', 'oftener', 'beloved', 'skill', 'voyage', 'bid', 'wales', 'fame', 'speculation', 'hospitality', 'exquisite', 'lovers', 'handing', 'assert', 'discussed', 'arrangements', 'attempts', 'fatal', 'ludicrous', 'mutual', 'suggest', 'coachman', 'corn', 'cooling', 'rustling', 'deliberately', 'phaeton', 'breathe', 'turf', 'induced', 'grounds', 'lightning', 'congregation', 'displeasure', 'travelled', 'fishing', 'venerable', 'stillness', 'destruction', 'precautions', 'robber', 'rights', 'exception', 'dropping', 'occasioned', 'reader', 'decision', 'completely', 'resemblance', 'entertained', 'host', 'congratulate', 'pole', 'powers', 'smallest', 'habitual', 'presume', 'disdain', 'fascination', 'occupy', 'renew', 'proffered', 'imagined', 'fancies', 'diamond', 'imploring', 'westminster', 'chinks', 'rays', 'triumph', 'britannia', 'encountered', 'anxiety', 'frighten', 'stray', 'trip', 'coolness', 'sings', 'juvenile', 'chadband', 'gift', 'shaken', 'slices', 'ham', 'sausage', 'eggs', 'scratching', 'inner', 'previously', 'threat', 'fearfully', 'delivering', 'token', 'war', 'expedient', 'resignation', 'justly', 'mills', 'police', 'perplexity', 'ere', 'giv', 'ses', 'ninepence', 'eyeing', 'farewell', 'improbable', 'inquiring', 'assent', 'waits', 'beats', 'reverend', 'transactions', 'admiring', 'alluded', 'pearl', 'shuffling', 'blade', 'shooting', 'views', 'gratification', 'dresses', 'talks', 'mortar', 'manly', 'whisker', 'emerging', 'suppressed', 'aroused', 'jobling', 'sprung', 'lend', 'seed', 'inward', 'slip', 'cradle', 'sized', 'veal', 'considerably', 'closer', 'pull', 'rubs', 'tony', 'rum', 'expectations', 'trifles', 'borrowed', 'impressive', 'retorts', 'interrupt', 'hem', 'chap', 'shrugging', 'sober', 'immensely', 'disposal', 'insensible', 'robbed', 'combination', 'screwed', 'weevle', 'survey', 'whitewashed', 'effected', 'treat', 'galaxy', 'magnificent', 'imposing', 'impelled', 'mount', 'bart', 'intellect', 'helpless', 'spider', 'elevated', 'marrying', 'gallows', 'guarded', 'cushion', 'sensitive', 'judy', 'twin', 'granddaughter', 'associates', 'existing', 'doubtful', 'cups', 'honours', 'ghastly', 'requiring', 'draught', 'planted', 'confounded', 'infer', 'tide', 'stress', 'sunburnt', 'measured', 'trooper', 'opposition', 'hints', 'leer', 'parental', 'boiling', 'apprehensions', 'comrade', 'traced', 'hawdon', 'pistol', 'attraction', 'shrinking', 'exercises', 'devoid', 'glaring', 'vice', 'phil', 'aim', 'eyebrow', 'watchman', 'guv', 'ner', 'mattress', 'shorter', 'dined', 'respectfully', 'fidelity', 'statement', 'detective', 'accompany', 'lookee', 'ahead', 'guide', 'glare', 'sickly', 'kisses', 'unnatural', 'blows', 'magic', 'tale', 'whistling', 'stealthily', 'recommendation', 'shrink', 'lightened', 'complain', 'zealous', 'interruption', 'unfinished', 'chances', 'worthier', 'galley', 'saving', 'amiss', 'substance', 'conspiracy', 'prevailed', 'transported', 'charmed', 'groan', 'exert', 'resist', 'traces', 'placid', 'overhead', 'lowest', 'stooping', 'learning', 'dried', 'reserve', 'capricious', 'deposited', 'resources', 'curse', 'tie', 'entreat', 'suspect', 'humph', 'mostly', 'exchanged', 'troubles', 'disengaged', 'dozed', 'raging', 'indicated', 'preferred', 'luck', 'arranging', 'apprehension', 'sealed', 'inspector', 'anger', 'fight', 'wreck', 'associations', 'forcing', 'rouse', 'scream', 'presided', 'declined', 'crisis', 'tooth', 'jealousy', 'backwards', 'scorn', 'aha', 'visage', 'cheering', 'hardened', 'demonstration', 'sarah', 'elephant', 'prey', 'woke', 'ee', 'mum', 'symptoms', 'breed', 'pump', 'drifting', 'bacon', 'governor', 'somewheres', 'tinker', 'forge', 'devonshire', 'gun', 'workman', 'jacket', 'exclamation', 'suddenness', 'prompt', 'sprightly', 'exasperated', 'spectacle', 'defence', 'poke', 'smothered', 'compare', 'eagerly', 'seizing', 'contemptuous', 'sergeant', 'wave', 'profitable', 'consult', 'flashing', 'thrust', 'rob', 'monster', 'greens', 'matthew', 'bagnet', 'grain', 'quebec', 'invitation', 'malta', 'plant', 'woolwich', 'pork', 'discipline', 'cloak', 'stocking', 'flute', 'summoned', 'serving', 'unusually', 'inferior', 'divided', 'volumnia', 'annual', 'rouge', 'dispose', 'sadly', 'aggravated', 'motioned', 'injured', 'proposition', 'fraud', 'mists', 'approbation', 'fears', 'openly', 'hired', 'stating', 'motives', 'sobs', 'packet', 'commiseration', 'restraint', 'consistent', 'bridal', 'noah', 'perception', 'denying', 'saddle', 'donkey', 'readiness', 'sleepy', 'broth', 'ditch', 'deserve', 'trap', 'missing', 'strayed', 'peril', 'restlessly', 'kneeled', 'despised', 'valley', 'respectability', 'fountain', 'approaches', 'misgiving', 'fender', 'construction', 'commit', 'remonstrance', 'reluctant', 'rousing', 'lucky', 'vicious', 'series', 'flames', 'torches', 'retreating', 'discern', 'somewhat', 'continuing', 'lone', 'fierce', 'bestowing', 'protected', 'formally', 'namely', 'doctors', 'arrive', 'volume', 'destined', 'guilt', 'hears', 'penitent', 'thief', 'destroyed', 'brows', 'mischief', 'lignum', 'wipe', 'confession', 'sally', 'reasonably', 'warmest', 'rock', 'surveyed', 'sneer', 'recent', 'restore', 'oppressed', 'striving', 'supporting', 'wickedness', 'subtle', 'petition', 'undergo', 'handkerchiefs', 'gratified', 'acquiesced', 'avoiding', 'patiently', 'deserved', 'stupid', 'coldness', 'affliction', 'associate', 'mechanically', 'prosperous', 'obdurate', 'murmuring', 'fondness', 'admitting', 'mister', 'shepherd', 'boat', 'fold', 'freedom', 'fervent', 'fairly', 'persisted', 'disguise', 'bursting', 'descried', 'awaiting', 'ordered', 'ashore', 'horizon', 'preparatory', 'interfered', 'stammered', 'coughed', 'retrospect', 'observations', 'parochial', 'windy', 'symond', 'materials', 'misses', 'boot', 'clenched', 'raps', 'balance', 'sundry', 'lank', 'suspense', 'relish', 'cherished', 'treasures', 'suffolk', 'hah', 'club', 'conditions', 'stealing', 'trot', 'firmness', 'innocence', 'debilitated', 'fired', 'townsman', 'disclosure', 'wrists', 'exposure', 'stain', 'unfortunately', 'relating', 'design', 'employer', 'personage', 'bet', 'poorer', 'withdrawn', 'wearied', 'torment', 'unchanged', 'deliberation', 'swollen', 'beach', 'sail', 'waiter', 'companionship', 'sore', 'crouching', 'thrusting', 'questioner', 'allus', 'scared', 'wittles', 'repetition', 'sorrowfully', 'tumble', 'loitering', 'sangsby', 'attempted', 'desperation', 'puzzled', 'text', 'declaring', 'endure', 'shout', 'cookery', 'pepper', 'creetur', 'handel', 'handcuffs', 'jew', 'chanced', 'hesitated', 'lingered', 'murderer', 'rushed', 'reflections', 'anxieties', 'prisoners', 'confinement', 'dover', 'avenger', 'philosopher', 'sherry', 'convict', 'ard', 'universally', 'blossom', 'interrupting', 'confronted', 'beckoning', 'motive', 'pecuniary', 'shoot', 'yore', 'unjust', 'moan', 'smoothed', 'ordering', 'highgate', 'ascended', 'kicked', 'fainted', 'grasped', 'topic', 'weighed', 'bolter', 'attack', 'strengthen', 'meekly', 'hue', 'traversed', 'discussing', 'soothed', 'dan', 'mountain', 'flourish', 'sorrows', 'successful', 'hitherto', 'excessive', 'darkly', 'compensation', 'bentley', 'fagin', 'oliver', 'author', 'inmates', 'lor', 'beggar', 'swore', 'mann', 'bumble', 'ly', 'porochial', 'seconds', 'limbkins', 'gamfield', 'lazy', 'lmen', 'indentures', 'sowerberry', 'wont', 'bony', 'tore', 'affirmative', 'yer', 'claypole', 'brewery', 'un', 'responded', 'screamed', 'mell', 'jumped', 'agen', 'dawkins', 'dodger', 'toasting', 'despairing', 'bates', 'thieves', 'nancy', 'ay', 'stepping', 'fang', 'brownlow', 'jailer', 'robbery', 'bedwin', 'rul', 'sikes', 'adopted', 'unprotected', 'licence', 'grimwig', 'orange', 'peel', 'mealy', 'barney', 'honor', 'commanded', 'avail', 'knitting', 'housebreaker', 'clutched', 'sessions', 'decanters', 'impostor', 'comprehended', 'fortun', 'chitling', 'chertsey', 'toby', 'crackit', 'intimated', 'repaired', 'shew', 'creep', 'gasped', 'oaths', 'hammersmith', 'corney', 'teapot', 'resigned', 'bellows', 'tommy', 'maybe', 'cripples', 'monks', 'giles', 'brittles', 'incessantly', 'maylie', 'losberne', 'blathers', 'duff', 'chickweed', 'spyers', 'tranquillity', 'harry', 'esquire', 'writhing', 'prerogative', 'betrayed', 'agnes', 'headlong', 'gal', 'comparatively', 'hulks', 'risk', 'gray', 'emptied', 'covent', 'dock', 'sparks', 'edward', 'scar', 'kags', 'turnkey', 'carrier', 'pip', 'gargery', 'georgiana', 'marsh', 'liver', 'tickler', 'oncommon', 'tar', 'pantry', 'parlor', 'wopsle', 'hubble', 'pumblechook', 'convicts', 'sluice', 'rowed', 'oars', 'biddy', 'kep', 'favor', 'meantersay', 'afeerd', 'havisham', 'joseph', 'courtyard', 'satis', 'estella', 'today', 'bargemen', 'camilla', 'neighborhood', 'realization', 'clem', 'boar', 'sails', 'orlick', 'jaggers', 'trabb', 'mike', 'wemmick', 'mas', 'barnard', 'herbert', 'flopson', 'canterbury', 'drummle', 'startop', 'portable', 'walworth', 'growed', 'disparity', 'clara', 'waldengarver', 'richmond', 'skiffins', 'kite', 'clarriker', 'yourn', 'provis', 'magwitch', 'wi', 'compeyson', 'tonight', 'steamer', 'yarmouth', 'unbounded', 'salem', 'steerforth', 'traddles', 'micawber', 'wickfield', 'heep', 'dora', 'peggotty', 'david', 'copperfield', 'blunderstone', 'trotwood', 'betsey', 'rookery', 'chillip', 'crocodile', 'murdstone', 'quinion', 'brooks', 'gummidge', 'emily', 'toy', 'lorn', 'tomorrow', 'someone', 'barkis', 'everyone', 'creakle', 'schoolroom', 'playground', 'tungay', 'dictionary', 'omer', 'tat', 'minnie', 'joram', 'judgement', 'grinby', 'gent', 'hopkins', 'donkeys', 'memorial', 'uriah', 'annie', 'maldon', 'umble', 'markleham', 'umbleness', 'umbly', 'larkins', 'proctor', 'daisy', 'dartle', 'littimer', 'theer', 'mowcher', 'doen', 'wureld', 'spenlow', 'jorkins', 'buckingham', 'crupp', 'waterbrook', 'spiker', 'gulpidge', 'norwood', 'tiffey', 'jip', 'wheer', 'heer', 'thowt', 'julia', 'sophy', 'putney', 'ury', 'horace', 'lavinia', 'clarissa', 'doady']\n"
     ]
    }
   ],
   "source": [
    "word2count = {}\n",
    "total_words = 0\n",
    "for word in processed_inputs.split():\n",
    "    if word not in word2count:\n",
    "        word2count[word] = 1\n",
    "    else:\n",
    "        word2count[word] += 1\n",
    "    total_words += 1\n",
    "\n",
    "\n",
    "word10 = []\n",
    "threshold = 10\n",
    "for word, count in word2count.items():\n",
    "    if count >= threshold:\n",
    "        if len(word) > 1:\n",
    "            word10.append(word)\n",
    "print(word10)         \n",
    "# Removing the words from each string which appear less than 15 times\n",
    "data_10 = []\n",
    "for word in processed_inputs.split():\n",
    "    if word in word10:\n",
    "        data_10.append(word)\n",
    "processed_inputs = \" \".join(data_10)"
   ]
  },
  {
   "cell_type": "code",
   "execution_count": 21,
   "metadata": {},
   "outputs": [
    {
     "data": {
      "text/plain": [
       "469032"
      ]
     },
     "execution_count": 21,
     "metadata": {},
     "output_type": "execute_result"
    }
   ],
   "source": [
    "len(processed_inputs.split())"
   ]
  },
  {
   "cell_type": "code",
   "execution_count": 22,
   "metadata": {},
   "outputs": [],
   "source": [
    "tokens = processed_inputs.split(\" \")\n",
    "len_of_train = 3+1\n",
    "fix_length_seq = []\n",
    "for i in range(len_of_train,len(tokens)):\n",
    "    seq = tokens[i-len_of_train:i]\n",
    "    fix_length_seq.append(seq)\n",
    "\n",
    "seq_count = {}\n",
    "count_of_words = 1\n",
    "for i in range(len(tokens)):\n",
    "    if tokens[i] not in seq_count:\n",
    "        seq_count[tokens[i]] = count_of_words\n",
    "        count_of_words += 1"
   ]
  },
  {
   "cell_type": "code",
   "execution_count": 23,
   "metadata": {},
   "outputs": [],
   "source": [
    "tokenize = Tokenizer()\n",
    "tokenize.fit_on_texts(fix_length_seq)\n",
    "sequences = tokenize.texts_to_sequences(fix_length_seq)   \n",
    "size = len(tokenize.word_counts)\n",
    "\n",
    "num_of_sequence = np.empty([len(sequences),len_of_train], dtype='int32')\n",
    "for i in range(len(sequences)):\n",
    "    num_of_sequence[i] = sequences[i]"
   ]
  },
  {
   "cell_type": "code",
   "execution_count": 24,
   "metadata": {},
   "outputs": [
    {
     "data": {
      "text/plain": [
       "(469028, 3)"
      ]
     },
     "execution_count": 24,
     "metadata": {},
     "output_type": "execute_result"
    }
   ],
   "source": [
    "#split the data\n",
    "X = num_of_sequence[:,:-1]\n",
    "Y = num_of_sequence[:,-1]\n",
    "from keras.utils import to_categorical\n",
    "Y = to_categorical(Y)\n",
    "len_of_sequences = X.shape[1]\n",
    "X.shape"
   ]
  },
  {
   "cell_type": "code",
   "execution_count": 25,
   "metadata": {},
   "outputs": [
    {
     "name": "stdout",
     "output_type": "stream",
     "text": [
      "[[0. 0. 0. ... 0. 0. 0.]\n",
      " [0. 0. 0. ... 0. 0. 0.]\n",
      " [0. 0. 0. ... 0. 0. 0.]\n",
      " ...\n",
      " [0. 0. 0. ... 0. 0. 0.]\n",
      " [0. 0. 0. ... 0. 0. 0.]\n",
      " [0. 0. 0. ... 0. 0. 0.]]\n"
     ]
    }
   ],
   "source": [
    "print(Y)"
   ]
  },
  {
   "cell_type": "code",
   "execution_count": 26,
   "metadata": {},
   "outputs": [
    {
     "data": {
      "text/plain": [
       "array([  53, 2579,   30], dtype=int32)"
      ]
     },
     "execution_count": 26,
     "metadata": {},
     "output_type": "execute_result"
    }
   ],
   "source": [
    "X[0]"
   ]
  },
  {
   "cell_type": "code",
   "execution_count": 27,
   "metadata": {},
   "outputs": [],
   "source": [
    "def create_model(vocabulary_size, seq_len):\n",
    "    model = Sequential()\n",
    "    model.add(Embedding(vocabulary_size,seq_len,input_length=seq_len))\n",
    "    model.add(LSTM(50,return_sequences=True))\n",
    "    model.add(LSTM(50))\n",
    "    model.add(Dense(50,activation='relu'))\n",
    "    model.add(Dense(vocabulary_size,activation='softmax'))\n",
    "    model.compile(loss='categorical_crossentropy',optimizer='adam',metrics=['accuracy'])\n",
    "    model.summary()\n",
    "    return model"
   ]
  },
  {
   "cell_type": "code",
   "execution_count": 31,
   "metadata": {},
   "outputs": [],
   "source": [
    "from keras.models import load_model\n",
    "model = load_model('model')"
   ]
  },
  {
   "cell_type": "code",
   "execution_count": 42,
   "metadata": {},
   "outputs": [
    {
     "name": "stdout",
     "output_type": "stream",
     "text": [
      "\n",
      "\n",
      "===>Enter --exit to exit from the program\n",
      "Enter string: sad\n",
      "Output: faced indignant accepted temporary behind unless said sharp current ironmaster little well morning said umbrella said received mr roof else\n",
      "Enter string: I am sad\n",
      "Output: faced indignant accepted temporary behind unless said sharp current ironmaster little well morning said umbrella said received mr roof else\n",
      "Enter string: I am happy\n",
      "Output: founded old would mere flopson mind dear said unaccountable tm tone importance mr arm making well mr critical took upon\n",
      "Enter string: tell me a joke\n",
      "Output: wore upon room whether could old slip mr like could dear another george come would lid mr fiery thought old\n",
      "Enter string: old\n",
      "Output: plain know old chapter little existing well night never much give old would written hard said table one said chaise\n",
      "Enter string: come on charles\n",
      "Output: one room unpleasant upon said milk eat one time god mr compliance suddenly never say hands beyond little said road\n",
      "Enter string: creative charles\n",
      "Output: one room unpleasant upon said milk eat one time god mr compliance suddenly never say hands beyond little said road\n",
      "Enter string: wedding \n",
      "Output: mr posted kind would reply paul upon said taken mr dear de mrs said shook tried replies way best old\n",
      "Enter string: ghost\n",
      "Output: said words waved one towards sir heart see part never much give old would written hard said table one said\n",
      "Enter string: I am tired\n",
      "Output: could compliance miss confused took sowerberry mr may us dear another trees replied said break said broad intention said soon\n",
      "Enter string: soon to be\n",
      "Output: elbow little know old hours upon would afterwards butter share used never muttered know dear chapter ready never much deal\n",
      "Enter string: as always \n",
      "Output: determine felt believed well upon said circumstances mr said must come doubt none one wore little view depressed little mine\n",
      "Enter string: I can't understand\n",
      "Output: little holding quite said draw one said wine mr roof else course dear another years crown one said towards like\n",
      "Enter string: what are you saying?\n",
      "Output: little trotwood come said length anything upon said circumstances mr said must come doubt none one wore little view depressed\n",
      "Enter string: ghost is real\n",
      "Output: meeting one paris mr could knowing past former replied said noble one matter george one said since makes might said\n",
      "Enter string: I like to play\n",
      "Output: felt tm alarm st quite paper said particularly mistake going look holding one lying said grasping dogs said curiously well\n"
     ]
    },
    {
     "ename": "KeyboardInterrupt",
     "evalue": "",
     "output_type": "error",
     "traceback": [
      "\u001b[0;31m---------------------------------------------------------------------------\u001b[0m",
      "\u001b[0;31mKeyboardInterrupt\u001b[0m                         Traceback (most recent call last)",
      "\u001b[0;32m/usr/local/lib/python3.7/site-packages/ipykernel/kernelbase.py\u001b[0m in \u001b[0;36m_input_request\u001b[0;34m(self, prompt, ident, parent, password)\u001b[0m\n\u001b[1;32m    877\u001b[0m             \u001b[0;32mtry\u001b[0m\u001b[0;34m:\u001b[0m\u001b[0;34m\u001b[0m\u001b[0;34m\u001b[0m\u001b[0m\n\u001b[0;32m--> 878\u001b[0;31m                 \u001b[0mident\u001b[0m\u001b[0;34m,\u001b[0m \u001b[0mreply\u001b[0m \u001b[0;34m=\u001b[0m \u001b[0mself\u001b[0m\u001b[0;34m.\u001b[0m\u001b[0msession\u001b[0m\u001b[0;34m.\u001b[0m\u001b[0mrecv\u001b[0m\u001b[0;34m(\u001b[0m\u001b[0mself\u001b[0m\u001b[0;34m.\u001b[0m\u001b[0mstdin_socket\u001b[0m\u001b[0;34m,\u001b[0m \u001b[0;36m0\u001b[0m\u001b[0;34m)\u001b[0m\u001b[0;34m\u001b[0m\u001b[0;34m\u001b[0m\u001b[0m\n\u001b[0m\u001b[1;32m    879\u001b[0m             \u001b[0;32mexcept\u001b[0m \u001b[0mException\u001b[0m\u001b[0;34m:\u001b[0m\u001b[0;34m\u001b[0m\u001b[0;34m\u001b[0m\u001b[0m\n",
      "\u001b[0;32m/usr/local/lib/python3.7/site-packages/jupyter_client/session.py\u001b[0m in \u001b[0;36mrecv\u001b[0;34m(self, socket, mode, content, copy)\u001b[0m\n\u001b[1;32m    802\u001b[0m         \u001b[0;32mtry\u001b[0m\u001b[0;34m:\u001b[0m\u001b[0;34m\u001b[0m\u001b[0;34m\u001b[0m\u001b[0m\n\u001b[0;32m--> 803\u001b[0;31m             \u001b[0mmsg_list\u001b[0m \u001b[0;34m=\u001b[0m \u001b[0msocket\u001b[0m\u001b[0;34m.\u001b[0m\u001b[0mrecv_multipart\u001b[0m\u001b[0;34m(\u001b[0m\u001b[0mmode\u001b[0m\u001b[0;34m,\u001b[0m \u001b[0mcopy\u001b[0m\u001b[0;34m=\u001b[0m\u001b[0mcopy\u001b[0m\u001b[0;34m)\u001b[0m\u001b[0;34m\u001b[0m\u001b[0;34m\u001b[0m\u001b[0m\n\u001b[0m\u001b[1;32m    804\u001b[0m         \u001b[0;32mexcept\u001b[0m \u001b[0mzmq\u001b[0m\u001b[0;34m.\u001b[0m\u001b[0mZMQError\u001b[0m \u001b[0;32mas\u001b[0m \u001b[0me\u001b[0m\u001b[0;34m:\u001b[0m\u001b[0;34m\u001b[0m\u001b[0;34m\u001b[0m\u001b[0m\n",
      "\u001b[0;32m/usr/local/lib/python3.7/site-packages/zmq/sugar/socket.py\u001b[0m in \u001b[0;36mrecv_multipart\u001b[0;34m(self, flags, copy, track)\u001b[0m\n\u001b[1;32m    466\u001b[0m         \"\"\"\n\u001b[0;32m--> 467\u001b[0;31m         \u001b[0mparts\u001b[0m \u001b[0;34m=\u001b[0m \u001b[0;34m[\u001b[0m\u001b[0mself\u001b[0m\u001b[0;34m.\u001b[0m\u001b[0mrecv\u001b[0m\u001b[0;34m(\u001b[0m\u001b[0mflags\u001b[0m\u001b[0;34m,\u001b[0m \u001b[0mcopy\u001b[0m\u001b[0;34m=\u001b[0m\u001b[0mcopy\u001b[0m\u001b[0;34m,\u001b[0m \u001b[0mtrack\u001b[0m\u001b[0;34m=\u001b[0m\u001b[0mtrack\u001b[0m\u001b[0;34m)\u001b[0m\u001b[0;34m]\u001b[0m\u001b[0;34m\u001b[0m\u001b[0;34m\u001b[0m\u001b[0m\n\u001b[0m\u001b[1;32m    468\u001b[0m         \u001b[0;31m# have first part already, only loop while more to receive\u001b[0m\u001b[0;34m\u001b[0m\u001b[0;34m\u001b[0m\u001b[0;34m\u001b[0m\u001b[0m\n",
      "\u001b[0;32mzmq/backend/cython/socket.pyx\u001b[0m in \u001b[0;36mzmq.backend.cython.socket.Socket.recv\u001b[0;34m()\u001b[0m\n",
      "\u001b[0;32mzmq/backend/cython/socket.pyx\u001b[0m in \u001b[0;36mzmq.backend.cython.socket.Socket.recv\u001b[0;34m()\u001b[0m\n",
      "\u001b[0;32mzmq/backend/cython/socket.pyx\u001b[0m in \u001b[0;36mzmq.backend.cython.socket._recv_copy\u001b[0;34m()\u001b[0m\n",
      "\u001b[0;32m/usr/local/lib/python3.7/site-packages/zmq/backend/cython/checkrc.pxd\u001b[0m in \u001b[0;36mzmq.backend.cython.checkrc._check_rc\u001b[0;34m()\u001b[0m\n",
      "\u001b[0;31mKeyboardInterrupt\u001b[0m: ",
      "\nDuring handling of the above exception, another exception occurred:\n",
      "\u001b[0;31mKeyboardInterrupt\u001b[0m                         Traceback (most recent call last)",
      "\u001b[0;32m<ipython-input-42-ab4ddcaa7794>\u001b[0m in \u001b[0;36m<module>\u001b[0;34m\u001b[0m\n\u001b[1;32m     16\u001b[0m \u001b[0mprint\u001b[0m\u001b[0;34m(\u001b[0m\u001b[0;34m'\\n\\n===>Enter --exit to exit from the program'\u001b[0m\u001b[0;34m)\u001b[0m\u001b[0;34m\u001b[0m\u001b[0;34m\u001b[0m\u001b[0m\n\u001b[1;32m     17\u001b[0m \u001b[0;32mwhile\u001b[0m \u001b[0;32mTrue\u001b[0m\u001b[0;34m:\u001b[0m\u001b[0;34m\u001b[0m\u001b[0;34m\u001b[0m\u001b[0m\n\u001b[0;32m---> 18\u001b[0;31m     \u001b[0minput_text\u001b[0m  \u001b[0;34m=\u001b[0m \u001b[0minput\u001b[0m\u001b[0;34m(\u001b[0m\u001b[0;34m'Enter string: '\u001b[0m\u001b[0;34m)\u001b[0m\u001b[0;34m\u001b[0m\u001b[0;34m\u001b[0m\u001b[0m\n\u001b[0m\u001b[1;32m     19\u001b[0m     \u001b[0;32mif\u001b[0m \u001b[0minput_text\u001b[0m\u001b[0;34m.\u001b[0m\u001b[0mlower\u001b[0m\u001b[0;34m(\u001b[0m\u001b[0;34m)\u001b[0m \u001b[0;34m==\u001b[0m \u001b[0;34m'--exit'\u001b[0m\u001b[0;34m:\u001b[0m\u001b[0;34m\u001b[0m\u001b[0;34m\u001b[0m\u001b[0m\n\u001b[1;32m     20\u001b[0m         \u001b[0;32mbreak\u001b[0m\u001b[0;34m\u001b[0m\u001b[0;34m\u001b[0m\u001b[0m\n",
      "\u001b[0;32m/usr/local/lib/python3.7/site-packages/ipykernel/kernelbase.py\u001b[0m in \u001b[0;36mraw_input\u001b[0;34m(self, prompt)\u001b[0m\n\u001b[1;32m    851\u001b[0m             \u001b[0mself\u001b[0m\u001b[0;34m.\u001b[0m\u001b[0m_parent_ident\u001b[0m\u001b[0;34m,\u001b[0m\u001b[0;34m\u001b[0m\u001b[0;34m\u001b[0m\u001b[0m\n\u001b[1;32m    852\u001b[0m             \u001b[0mself\u001b[0m\u001b[0;34m.\u001b[0m\u001b[0m_parent_header\u001b[0m\u001b[0;34m,\u001b[0m\u001b[0;34m\u001b[0m\u001b[0;34m\u001b[0m\u001b[0m\n\u001b[0;32m--> 853\u001b[0;31m             \u001b[0mpassword\u001b[0m\u001b[0;34m=\u001b[0m\u001b[0;32mFalse\u001b[0m\u001b[0;34m,\u001b[0m\u001b[0;34m\u001b[0m\u001b[0;34m\u001b[0m\u001b[0m\n\u001b[0m\u001b[1;32m    854\u001b[0m         )\n\u001b[1;32m    855\u001b[0m \u001b[0;34m\u001b[0m\u001b[0m\n",
      "\u001b[0;32m/usr/local/lib/python3.7/site-packages/ipykernel/kernelbase.py\u001b[0m in \u001b[0;36m_input_request\u001b[0;34m(self, prompt, ident, parent, password)\u001b[0m\n\u001b[1;32m    881\u001b[0m             \u001b[0;32mexcept\u001b[0m \u001b[0mKeyboardInterrupt\u001b[0m\u001b[0;34m:\u001b[0m\u001b[0;34m\u001b[0m\u001b[0;34m\u001b[0m\u001b[0m\n\u001b[1;32m    882\u001b[0m                 \u001b[0;31m# re-raise KeyboardInterrupt, to truncate traceback\u001b[0m\u001b[0;34m\u001b[0m\u001b[0;34m\u001b[0m\u001b[0;34m\u001b[0m\u001b[0m\n\u001b[0;32m--> 883\u001b[0;31m                 \u001b[0;32mraise\u001b[0m \u001b[0mKeyboardInterrupt\u001b[0m\u001b[0;34m\u001b[0m\u001b[0;34m\u001b[0m\u001b[0m\n\u001b[0m\u001b[1;32m    884\u001b[0m             \u001b[0;32melse\u001b[0m\u001b[0;34m:\u001b[0m\u001b[0;34m\u001b[0m\u001b[0;34m\u001b[0m\u001b[0m\n\u001b[1;32m    885\u001b[0m                 \u001b[0;32mbreak\u001b[0m\u001b[0;34m\u001b[0m\u001b[0;34m\u001b[0m\u001b[0m\n",
      "\u001b[0;31mKeyboardInterrupt\u001b[0m: "
     ]
    }
   ],
   "source": [
    "from keras.preprocessing.sequence import pad_sequences\n",
    "seq_len = 3\n",
    "def predictWords(model, tokenizer, seq_len, text, num_gen_words):\n",
    "    output_text = []\n",
    "    input_text = text\n",
    "    for i in range(num_gen_words):\n",
    "        encoded_text = tokenizer.texts_to_sequences([input_text])[0]\n",
    "        pad_encoded = pad_sequences([encoded_text], maxlen=seq_len,truncating='pre')\n",
    "        pred_word_ind = model.predict_classes(pad_encoded,verbose=0)[0]\n",
    "        \n",
    "        pred_word = tokenizer.index_word[pred_word_ind]\n",
    "        input_text += ' '+pred_word\n",
    "        output_text.append(pred_word)\n",
    "    return ' '.join(output_text)\n",
    "\n",
    "while True:\n",
    "    input_text  = input('Enter your words: ')\n",
    "    if input_text.lower() == 'exit':\n",
    "        break\n",
    "    else:\n",
    "        predicted_words = predictWords(model, tokenize, seq_len=seq_len, text=input_text, num_gen_words=20)\n",
    "        print('Output: '+predicted_words)"
   ]
  },
  {
   "cell_type": "code",
   "execution_count": null,
   "metadata": {},
   "outputs": [],
   "source": []
  },
  {
   "cell_type": "code",
   "execution_count": null,
   "metadata": {},
   "outputs": [],
   "source": []
  },
  {
   "cell_type": "code",
   "execution_count": null,
   "metadata": {},
   "outputs": [],
   "source": []
  },
  {
   "cell_type": "code",
   "execution_count": null,
   "metadata": {},
   "outputs": [],
   "source": []
  },
  {
   "cell_type": "code",
   "execution_count": null,
   "metadata": {},
   "outputs": [],
   "source": []
  }
 ],
 "metadata": {
  "kernelspec": {
   "display_name": "Python 3",
   "language": "python",
   "name": "python3"
  },
  "language_info": {
   "codemirror_mode": {
    "name": "ipython",
    "version": 3
   },
   "file_extension": ".py",
   "mimetype": "text/x-python",
   "name": "python",
   "nbconvert_exporter": "python",
   "pygments_lexer": "ipython3",
   "version": "3.7.4"
  }
 },
 "nbformat": 4,
 "nbformat_minor": 2
}
